{
 "cells": [
  {
   "cell_type": "code",
   "execution_count": 1,
   "metadata": {},
   "outputs": [],
   "source": [
    "import pandas as pd\n",
    "import numpy as np\n",
    "import matplotlib.pyplot as plt"
   ]
  },
  {
   "cell_type": "code",
   "execution_count": 2,
   "metadata": {},
   "outputs": [],
   "source": [
    " df = pd.read_csv(\"store20112015.csv\")"
   ]
  },
  {
   "cell_type": "code",
   "execution_count": 3,
   "metadata": {},
   "outputs": [
    {
     "data": {
      "text/html": [
       "<div>\n",
       "<style scoped>\n",
       "    .dataframe tbody tr th:only-of-type {\n",
       "        vertical-align: middle;\n",
       "    }\n",
       "\n",
       "    .dataframe tbody tr th {\n",
       "        vertical-align: top;\n",
       "    }\n",
       "\n",
       "    .dataframe thead th {\n",
       "        text-align: right;\n",
       "    }\n",
       "</style>\n",
       "<table border=\"1\" class=\"dataframe\">\n",
       "  <thead>\n",
       "    <tr style=\"text-align: right;\">\n",
       "      <th></th>\n",
       "      <th>Row ID</th>\n",
       "      <th>Order ID</th>\n",
       "      <th>Order Date</th>\n",
       "      <th>Ship Date</th>\n",
       "      <th>Ship Mode</th>\n",
       "      <th>Customer ID</th>\n",
       "      <th>Customer Name</th>\n",
       "      <th>Segment</th>\n",
       "      <th>City</th>\n",
       "      <th>State</th>\n",
       "      <th>...</th>\n",
       "      <th>Product ID</th>\n",
       "      <th>Category</th>\n",
       "      <th>Sub-Category</th>\n",
       "      <th>Product Name</th>\n",
       "      <th>Sales</th>\n",
       "      <th>Quantity</th>\n",
       "      <th>Discount</th>\n",
       "      <th>Profit</th>\n",
       "      <th>Shipping Cost</th>\n",
       "      <th>Order Priority</th>\n",
       "    </tr>\n",
       "  </thead>\n",
       "  <tbody>\n",
       "    <tr>\n",
       "      <th>0</th>\n",
       "      <td>42433</td>\n",
       "      <td>AG-2011-2040</td>\n",
       "      <td>01-01-2011</td>\n",
       "      <td>06-01-2011</td>\n",
       "      <td>Standard Class</td>\n",
       "      <td>TB-11280</td>\n",
       "      <td>Toby Braunhardt</td>\n",
       "      <td>Consumer</td>\n",
       "      <td>Constantine</td>\n",
       "      <td>Constantine</td>\n",
       "      <td>...</td>\n",
       "      <td>OFF-TEN-10000025</td>\n",
       "      <td>Office Supplies</td>\n",
       "      <td>Storage</td>\n",
       "      <td>Tenex Lockers, Blue</td>\n",
       "      <td>408.300</td>\n",
       "      <td>2</td>\n",
       "      <td>0.0</td>\n",
       "      <td>106.140</td>\n",
       "      <td>35.46</td>\n",
       "      <td>Medium</td>\n",
       "    </tr>\n",
       "    <tr>\n",
       "      <th>1</th>\n",
       "      <td>22253</td>\n",
       "      <td>IN-2011-47883</td>\n",
       "      <td>01-01-2011</td>\n",
       "      <td>08-01-2011</td>\n",
       "      <td>Standard Class</td>\n",
       "      <td>JH-15985</td>\n",
       "      <td>Joseph Holt</td>\n",
       "      <td>Consumer</td>\n",
       "      <td>Wagga Wagga</td>\n",
       "      <td>New South Wales</td>\n",
       "      <td>...</td>\n",
       "      <td>OFF-SU-10000618</td>\n",
       "      <td>Office Supplies</td>\n",
       "      <td>Supplies</td>\n",
       "      <td>Acme Trimmer, High Speed</td>\n",
       "      <td>120.366</td>\n",
       "      <td>3</td>\n",
       "      <td>0.1</td>\n",
       "      <td>36.036</td>\n",
       "      <td>9.72</td>\n",
       "      <td>Medium</td>\n",
       "    </tr>\n",
       "    <tr>\n",
       "      <th>2</th>\n",
       "      <td>48883</td>\n",
       "      <td>HU-2011-1220</td>\n",
       "      <td>01-01-2011</td>\n",
       "      <td>05-01-2011</td>\n",
       "      <td>Second Class</td>\n",
       "      <td>AT-735</td>\n",
       "      <td>Annie Thurman</td>\n",
       "      <td>Consumer</td>\n",
       "      <td>Budapest</td>\n",
       "      <td>Budapest</td>\n",
       "      <td>...</td>\n",
       "      <td>OFF-TEN-10001585</td>\n",
       "      <td>Office Supplies</td>\n",
       "      <td>Storage</td>\n",
       "      <td>Tenex Box, Single Width</td>\n",
       "      <td>66.120</td>\n",
       "      <td>4</td>\n",
       "      <td>0.0</td>\n",
       "      <td>29.640</td>\n",
       "      <td>8.17</td>\n",
       "      <td>High</td>\n",
       "    </tr>\n",
       "    <tr>\n",
       "      <th>3</th>\n",
       "      <td>11731</td>\n",
       "      <td>IT-2011-3647632</td>\n",
       "      <td>01-01-2011</td>\n",
       "      <td>05-01-2011</td>\n",
       "      <td>Second Class</td>\n",
       "      <td>EM-14140</td>\n",
       "      <td>Eugene Moren</td>\n",
       "      <td>Home Office</td>\n",
       "      <td>Stockholm</td>\n",
       "      <td>Stockholm</td>\n",
       "      <td>...</td>\n",
       "      <td>OFF-PA-10001492</td>\n",
       "      <td>Office Supplies</td>\n",
       "      <td>Paper</td>\n",
       "      <td>Enermax Note Cards, Premium</td>\n",
       "      <td>44.865</td>\n",
       "      <td>3</td>\n",
       "      <td>0.5</td>\n",
       "      <td>-26.055</td>\n",
       "      <td>4.82</td>\n",
       "      <td>High</td>\n",
       "    </tr>\n",
       "    <tr>\n",
       "      <th>4</th>\n",
       "      <td>22255</td>\n",
       "      <td>IN-2011-47883</td>\n",
       "      <td>01-01-2011</td>\n",
       "      <td>08-01-2011</td>\n",
       "      <td>Standard Class</td>\n",
       "      <td>JH-15985</td>\n",
       "      <td>Joseph Holt</td>\n",
       "      <td>Consumer</td>\n",
       "      <td>Wagga Wagga</td>\n",
       "      <td>New South Wales</td>\n",
       "      <td>...</td>\n",
       "      <td>FUR-FU-10003447</td>\n",
       "      <td>Furniture</td>\n",
       "      <td>Furnishings</td>\n",
       "      <td>Eldon Light Bulb, Duo Pack</td>\n",
       "      <td>113.670</td>\n",
       "      <td>5</td>\n",
       "      <td>0.1</td>\n",
       "      <td>37.770</td>\n",
       "      <td>4.70</td>\n",
       "      <td>Medium</td>\n",
       "    </tr>\n",
       "  </tbody>\n",
       "</table>\n",
       "<p>5 rows × 24 columns</p>\n",
       "</div>"
      ],
      "text/plain": [
       "   Row ID         Order ID  Order Date   Ship Date       Ship Mode  \\\n",
       "0   42433     AG-2011-2040  01-01-2011  06-01-2011  Standard Class   \n",
       "1   22253    IN-2011-47883  01-01-2011  08-01-2011  Standard Class   \n",
       "2   48883     HU-2011-1220  01-01-2011  05-01-2011    Second Class   \n",
       "3   11731  IT-2011-3647632  01-01-2011  05-01-2011    Second Class   \n",
       "4   22255    IN-2011-47883  01-01-2011  08-01-2011  Standard Class   \n",
       "\n",
       "  Customer ID    Customer Name      Segment         City            State  \\\n",
       "0    TB-11280  Toby Braunhardt     Consumer  Constantine      Constantine   \n",
       "1    JH-15985      Joseph Holt     Consumer  Wagga Wagga  New South Wales   \n",
       "2      AT-735    Annie Thurman     Consumer     Budapest         Budapest   \n",
       "3    EM-14140     Eugene Moren  Home Office    Stockholm        Stockholm   \n",
       "4    JH-15985      Joseph Holt     Consumer  Wagga Wagga  New South Wales   \n",
       "\n",
       "   ...        Product ID         Category Sub-Category  \\\n",
       "0  ...  OFF-TEN-10000025  Office Supplies      Storage   \n",
       "1  ...   OFF-SU-10000618  Office Supplies     Supplies   \n",
       "2  ...  OFF-TEN-10001585  Office Supplies      Storage   \n",
       "3  ...   OFF-PA-10001492  Office Supplies        Paper   \n",
       "4  ...   FUR-FU-10003447        Furniture  Furnishings   \n",
       "\n",
       "                  Product Name    Sales Quantity Discount   Profit  \\\n",
       "0          Tenex Lockers, Blue  408.300        2      0.0  106.140   \n",
       "1     Acme Trimmer, High Speed  120.366        3      0.1   36.036   \n",
       "2      Tenex Box, Single Width   66.120        4      0.0   29.640   \n",
       "3  Enermax Note Cards, Premium   44.865        3      0.5  -26.055   \n",
       "4   Eldon Light Bulb, Duo Pack  113.670        5      0.1   37.770   \n",
       "\n",
       "   Shipping Cost  Order Priority  \n",
       "0          35.46          Medium  \n",
       "1           9.72          Medium  \n",
       "2           8.17            High  \n",
       "3           4.82            High  \n",
       "4           4.70          Medium  \n",
       "\n",
       "[5 rows x 24 columns]"
      ]
     },
     "execution_count": 3,
     "metadata": {},
     "output_type": "execute_result"
    }
   ],
   "source": [
    "df.head()"
   ]
  },
  {
   "cell_type": "code",
   "execution_count": 4,
   "metadata": {},
   "outputs": [
    {
     "data": {
      "text/plain": [
       "Row ID                0\n",
       "Order ID              0\n",
       "Order Date            0\n",
       "Ship Date             0\n",
       "Ship Mode             0\n",
       "Customer ID           0\n",
       "Customer Name         0\n",
       "Segment               0\n",
       "City                  0\n",
       "State                 0\n",
       "Country               0\n",
       "Postal Code       41296\n",
       "Market                0\n",
       "Region                0\n",
       "Product ID            0\n",
       "Category              0\n",
       "Sub-Category          0\n",
       "Product Name          0\n",
       "Sales                 0\n",
       "Quantity              0\n",
       "Discount              0\n",
       "Profit                0\n",
       "Shipping Cost         0\n",
       "Order Priority        0\n",
       "dtype: int64"
      ]
     },
     "execution_count": 4,
     "metadata": {},
     "output_type": "execute_result"
    }
   ],
   "source": [
    "df.isnull().sum()"
   ]
  },
  {
   "cell_type": "code",
   "execution_count": 5,
   "metadata": {},
   "outputs": [
    {
     "data": {
      "text/plain": [
       "Index(['Row ID', 'Order ID', 'Order Date', 'Ship Date', 'Ship Mode',\n",
       "       'Customer ID', 'Customer Name', 'Segment', 'City', 'State', 'Country',\n",
       "       'Postal Code', 'Market', 'Region', 'Product ID', 'Category',\n",
       "       'Sub-Category', 'Product Name', 'Sales', 'Quantity', 'Discount',\n",
       "       'Profit', 'Shipping Cost', 'Order Priority'],\n",
       "      dtype='object')"
      ]
     },
     "execution_count": 5,
     "metadata": {},
     "output_type": "execute_result"
    }
   ],
   "source": [
    "df.columns"
   ]
  },
  {
   "cell_type": "code",
   "execution_count": 6,
   "metadata": {},
   "outputs": [],
   "source": [
    "df.columns = df.columns.str.strip().str.replace(' ', '_')"
   ]
  },
  {
   "cell_type": "code",
   "execution_count": 7,
   "metadata": {},
   "outputs": [],
   "source": [
    "df.rename(columns = {'Market':'Marcket','Sub-Category':'Sub_Cat'}, inplace=True)"
   ]
  },
  {
   "cell_type": "code",
   "execution_count": 8,
   "metadata": {},
   "outputs": [
    {
     "data": {
      "text/plain": [
       "Index(['Row_ID', 'Order_ID', 'Order_Date', 'Ship_Date', 'Ship_Mode',\n",
       "       'Customer_ID', 'Customer_Name', 'Segment', 'City', 'State', 'Country',\n",
       "       'Postal_Code', 'Marcket', 'Region', 'Product_ID', 'Category', 'Sub_Cat',\n",
       "       'Product_Name', 'Sales', 'Quantity', 'Discount', 'Profit',\n",
       "       'Shipping_Cost', 'Order_Priority'],\n",
       "      dtype='object')"
      ]
     },
     "execution_count": 8,
     "metadata": {},
     "output_type": "execute_result"
    }
   ],
   "source": [
    "df.columns"
   ]
  },
  {
   "cell_type": "code",
   "execution_count": 9,
   "metadata": {},
   "outputs": [],
   "source": [
    "columns = df.columns"
   ]
  },
  {
   "cell_type": "code",
   "execution_count": 10,
   "metadata": {},
   "outputs": [
    {
     "data": {
      "text/plain": [
       "0"
      ]
     },
     "execution_count": 10,
     "metadata": {},
     "output_type": "execute_result"
    }
   ],
   "source": [
    "df.duplicated(columns).sum()"
   ]
  },
  {
   "cell_type": "code",
   "execution_count": 11,
   "metadata": {},
   "outputs": [
    {
     "data": {
      "text/plain": [
       "(51290, 24)"
      ]
     },
     "execution_count": 11,
     "metadata": {},
     "output_type": "execute_result"
    }
   ],
   "source": [
    "df.shape"
   ]
  },
  {
   "cell_type": "code",
   "execution_count": 12,
   "metadata": {},
   "outputs": [
    {
     "data": {
      "text/html": [
       "<div>\n",
       "<style scoped>\n",
       "    .dataframe tbody tr th:only-of-type {\n",
       "        vertical-align: middle;\n",
       "    }\n",
       "\n",
       "    .dataframe tbody tr th {\n",
       "        vertical-align: top;\n",
       "    }\n",
       "\n",
       "    .dataframe thead th {\n",
       "        text-align: right;\n",
       "    }\n",
       "</style>\n",
       "<table border=\"1\" class=\"dataframe\">\n",
       "  <thead>\n",
       "    <tr style=\"text-align: right;\">\n",
       "      <th></th>\n",
       "      <th>Row_ID</th>\n",
       "      <th>Postal_Code</th>\n",
       "      <th>Sales</th>\n",
       "      <th>Quantity</th>\n",
       "      <th>Discount</th>\n",
       "      <th>Profit</th>\n",
       "      <th>Shipping_Cost</th>\n",
       "    </tr>\n",
       "  </thead>\n",
       "  <tbody>\n",
       "    <tr>\n",
       "      <th>count</th>\n",
       "      <td>51290.00000</td>\n",
       "      <td>9994.000000</td>\n",
       "      <td>51290.000000</td>\n",
       "      <td>51290.000000</td>\n",
       "      <td>51290.000000</td>\n",
       "      <td>51290.000000</td>\n",
       "      <td>51290.000000</td>\n",
       "    </tr>\n",
       "    <tr>\n",
       "      <th>mean</th>\n",
       "      <td>25645.50000</td>\n",
       "      <td>55190.379428</td>\n",
       "      <td>246.490581</td>\n",
       "      <td>3.476545</td>\n",
       "      <td>0.142908</td>\n",
       "      <td>28.610982</td>\n",
       "      <td>26.375915</td>\n",
       "    </tr>\n",
       "    <tr>\n",
       "      <th>std</th>\n",
       "      <td>14806.29199</td>\n",
       "      <td>32063.693350</td>\n",
       "      <td>487.565361</td>\n",
       "      <td>2.278766</td>\n",
       "      <td>0.212280</td>\n",
       "      <td>174.340972</td>\n",
       "      <td>57.296804</td>\n",
       "    </tr>\n",
       "    <tr>\n",
       "      <th>min</th>\n",
       "      <td>1.00000</td>\n",
       "      <td>1040.000000</td>\n",
       "      <td>0.444000</td>\n",
       "      <td>1.000000</td>\n",
       "      <td>0.000000</td>\n",
       "      <td>-6599.978000</td>\n",
       "      <td>0.000000</td>\n",
       "    </tr>\n",
       "    <tr>\n",
       "      <th>25%</th>\n",
       "      <td>12823.25000</td>\n",
       "      <td>23223.000000</td>\n",
       "      <td>30.758625</td>\n",
       "      <td>2.000000</td>\n",
       "      <td>0.000000</td>\n",
       "      <td>0.000000</td>\n",
       "      <td>2.610000</td>\n",
       "    </tr>\n",
       "    <tr>\n",
       "      <th>50%</th>\n",
       "      <td>25645.50000</td>\n",
       "      <td>56430.500000</td>\n",
       "      <td>85.053000</td>\n",
       "      <td>3.000000</td>\n",
       "      <td>0.000000</td>\n",
       "      <td>9.240000</td>\n",
       "      <td>7.790000</td>\n",
       "    </tr>\n",
       "    <tr>\n",
       "      <th>75%</th>\n",
       "      <td>38467.75000</td>\n",
       "      <td>90008.000000</td>\n",
       "      <td>251.053200</td>\n",
       "      <td>5.000000</td>\n",
       "      <td>0.200000</td>\n",
       "      <td>36.810000</td>\n",
       "      <td>24.450000</td>\n",
       "    </tr>\n",
       "    <tr>\n",
       "      <th>max</th>\n",
       "      <td>51290.00000</td>\n",
       "      <td>99301.000000</td>\n",
       "      <td>22638.480000</td>\n",
       "      <td>14.000000</td>\n",
       "      <td>0.850000</td>\n",
       "      <td>8399.976000</td>\n",
       "      <td>933.570000</td>\n",
       "    </tr>\n",
       "  </tbody>\n",
       "</table>\n",
       "</div>"
      ],
      "text/plain": [
       "            Row_ID   Postal_Code         Sales      Quantity      Discount  \\\n",
       "count  51290.00000   9994.000000  51290.000000  51290.000000  51290.000000   \n",
       "mean   25645.50000  55190.379428    246.490581      3.476545      0.142908   \n",
       "std    14806.29199  32063.693350    487.565361      2.278766      0.212280   \n",
       "min        1.00000   1040.000000      0.444000      1.000000      0.000000   \n",
       "25%    12823.25000  23223.000000     30.758625      2.000000      0.000000   \n",
       "50%    25645.50000  56430.500000     85.053000      3.000000      0.000000   \n",
       "75%    38467.75000  90008.000000    251.053200      5.000000      0.200000   \n",
       "max    51290.00000  99301.000000  22638.480000     14.000000      0.850000   \n",
       "\n",
       "             Profit  Shipping_Cost  \n",
       "count  51290.000000   51290.000000  \n",
       "mean      28.610982      26.375915  \n",
       "std      174.340972      57.296804  \n",
       "min    -6599.978000       0.000000  \n",
       "25%        0.000000       2.610000  \n",
       "50%        9.240000       7.790000  \n",
       "75%       36.810000      24.450000  \n",
       "max     8399.976000     933.570000  "
      ]
     },
     "execution_count": 12,
     "metadata": {},
     "output_type": "execute_result"
    }
   ],
   "source": [
    "df.describe()"
   ]
  },
  {
   "cell_type": "code",
   "execution_count": 13,
   "metadata": {},
   "outputs": [],
   "source": [
    "# Row_ID"
   ]
  },
  {
   "cell_type": "code",
   "execution_count": 14,
   "metadata": {},
   "outputs": [
    {
     "data": {
      "text/plain": [
       "51290"
      ]
     },
     "execution_count": 14,
     "metadata": {},
     "output_type": "execute_result"
    }
   ],
   "source": [
    "df.Row_ID.nunique()"
   ]
  },
  {
   "cell_type": "code",
   "execution_count": 15,
   "metadata": {},
   "outputs": [],
   "source": [
    "for a in df[\"Row_ID\"]:\n",
    "    if(a%1 != 0):\n",
    "        print (a)"
   ]
  },
  {
   "cell_type": "code",
   "execution_count": 16,
   "metadata": {},
   "outputs": [],
   "source": [
    "# Order_ID"
   ]
  },
  {
   "cell_type": "code",
   "execution_count": 17,
   "metadata": {},
   "outputs": [
    {
     "data": {
      "text/plain": [
       "0"
      ]
     },
     "execution_count": 17,
     "metadata": {},
     "output_type": "execute_result"
    }
   ],
   "source": [
    "df.Order_ID.isnull().sum()"
   ]
  },
  {
   "cell_type": "code",
   "execution_count": 18,
   "metadata": {},
   "outputs": [],
   "source": [
    "df['test'] = df['Order_ID'].str[:8]"
   ]
  },
  {
   "cell_type": "code",
   "execution_count": 19,
   "metadata": {},
   "outputs": [
    {
     "data": {
      "text/plain": [
       "0        AG-2011-\n",
       "1        IN-2011-\n",
       "2        HU-2011-\n",
       "3        IT-2011-\n",
       "4        IN-2011-\n",
       "           ...   \n",
       "51285    CA-2014-\n",
       "51286    MO-2014-\n",
       "51287    MX-2014-\n",
       "51288    MX-2014-\n",
       "51289    CA-2014-\n",
       "Name: test, Length: 51290, dtype: object"
      ]
     },
     "execution_count": 19,
     "metadata": {},
     "output_type": "execute_result"
    }
   ],
   "source": [
    "df.test"
   ]
  },
  {
   "cell_type": "code",
   "execution_count": 20,
   "metadata": {},
   "outputs": [],
   "source": [
    "import re\n",
    "rex = re.compile(\"^[A-Z]{2}-[0-9]{4}-$\")\n",
    "for a in df[\"test\"]:\n",
    "    if rex.match(a) is None:\n",
    "        print(\"True\")"
   ]
  },
  {
   "cell_type": "code",
   "execution_count": 21,
   "metadata": {},
   "outputs": [],
   "source": [
    "df.drop([\"test\"],inplace=True,axis=1)"
   ]
  },
  {
   "cell_type": "code",
   "execution_count": 22,
   "metadata": {},
   "outputs": [],
   "source": [
    "# Order Date"
   ]
  },
  {
   "cell_type": "code",
   "execution_count": 23,
   "metadata": {},
   "outputs": [
    {
     "data": {
      "text/plain": [
       "0"
      ]
     },
     "execution_count": 23,
     "metadata": {},
     "output_type": "execute_result"
    }
   ],
   "source": [
    "df.Order_Date.isnull().sum()"
   ]
  },
  {
   "cell_type": "code",
   "execution_count": 24,
   "metadata": {},
   "outputs": [
    {
     "data": {
      "text/plain": [
       "0        01-01-2011\n",
       "1        01-01-2011\n",
       "2        01-01-2011\n",
       "3        01-01-2011\n",
       "4        01-01-2011\n",
       "            ...    \n",
       "51285    31-12-2014\n",
       "51286    31-12-2014\n",
       "51287    31-12-2014\n",
       "51288    31-12-2014\n",
       "51289    31-12-2014\n",
       "Name: Order_Date, Length: 51290, dtype: object"
      ]
     },
     "execution_count": 24,
     "metadata": {},
     "output_type": "execute_result"
    }
   ],
   "source": [
    "df.Order_Date"
   ]
  },
  {
   "cell_type": "code",
   "execution_count": 25,
   "metadata": {},
   "outputs": [],
   "source": [
    "df.Order_Date=pd.to_datetime(df.Order_Date,format='%d-%m-%Y')"
   ]
  },
  {
   "cell_type": "code",
   "execution_count": 26,
   "metadata": {},
   "outputs": [
    {
     "data": {
      "text/plain": [
       "0       2011-01-01\n",
       "1       2011-01-01\n",
       "2       2011-01-01\n",
       "3       2011-01-01\n",
       "4       2011-01-01\n",
       "           ...    \n",
       "51285   2014-12-31\n",
       "51286   2014-12-31\n",
       "51287   2014-12-31\n",
       "51288   2014-12-31\n",
       "51289   2014-12-31\n",
       "Name: Order_Date, Length: 51290, dtype: datetime64[ns]"
      ]
     },
     "execution_count": 26,
     "metadata": {},
     "output_type": "execute_result"
    }
   ],
   "source": [
    "df.Order_Date"
   ]
  },
  {
   "cell_type": "code",
   "execution_count": 27,
   "metadata": {},
   "outputs": [],
   "source": [
    "# Ship Date"
   ]
  },
  {
   "cell_type": "code",
   "execution_count": 28,
   "metadata": {},
   "outputs": [
    {
     "data": {
      "text/plain": [
       "0"
      ]
     },
     "execution_count": 28,
     "metadata": {},
     "output_type": "execute_result"
    }
   ],
   "source": [
    "df.Ship_Date.isnull().sum()"
   ]
  },
  {
   "cell_type": "code",
   "execution_count": 29,
   "metadata": {},
   "outputs": [
    {
     "data": {
      "text/plain": [
       "0        06-01-2011\n",
       "1        08-01-2011\n",
       "2        05-01-2011\n",
       "3        05-01-2011\n",
       "4        08-01-2011\n",
       "            ...    \n",
       "51285    04-01-2015\n",
       "51286    05-01-2015\n",
       "51287    02-01-2015\n",
       "51288    06-01-2015\n",
       "51289    04-01-2015\n",
       "Name: Ship_Date, Length: 51290, dtype: object"
      ]
     },
     "execution_count": 29,
     "metadata": {},
     "output_type": "execute_result"
    }
   ],
   "source": [
    "df.Ship_Date"
   ]
  },
  {
   "cell_type": "code",
   "execution_count": 30,
   "metadata": {},
   "outputs": [],
   "source": [
    "df.Ship_Date=pd.to_datetime(df.Ship_Date,format='%d-%m-%Y')"
   ]
  },
  {
   "cell_type": "code",
   "execution_count": 31,
   "metadata": {},
   "outputs": [
    {
     "data": {
      "text/plain": [
       "0       2011-01-06\n",
       "1       2011-01-08\n",
       "2       2011-01-05\n",
       "3       2011-01-05\n",
       "4       2011-01-08\n",
       "           ...    \n",
       "51285   2015-01-04\n",
       "51286   2015-01-05\n",
       "51287   2015-01-02\n",
       "51288   2015-01-06\n",
       "51289   2015-01-04\n",
       "Name: Ship_Date, Length: 51290, dtype: datetime64[ns]"
      ]
     },
     "execution_count": 31,
     "metadata": {},
     "output_type": "execute_result"
    }
   ],
   "source": [
    "df.Ship_Date"
   ]
  },
  {
   "cell_type": "code",
   "execution_count": 32,
   "metadata": {},
   "outputs": [],
   "source": [
    "# Ship Mode"
   ]
  },
  {
   "cell_type": "code",
   "execution_count": 33,
   "metadata": {},
   "outputs": [
    {
     "data": {
      "text/plain": [
       "4"
      ]
     },
     "execution_count": 33,
     "metadata": {},
     "output_type": "execute_result"
    }
   ],
   "source": [
    "df.Ship_Mode.nunique()"
   ]
  },
  {
   "cell_type": "code",
   "execution_count": 34,
   "metadata": {},
   "outputs": [
    {
     "data": {
      "text/plain": [
       "Standard Class    30775\n",
       "Second Class      10309\n",
       "First Class        7505\n",
       "Same Day           2701\n",
       "Name: Ship_Mode, dtype: int64"
      ]
     },
     "execution_count": 34,
     "metadata": {},
     "output_type": "execute_result"
    }
   ],
   "source": [
    "df.Ship_Mode.value_counts()"
   ]
  },
  {
   "cell_type": "code",
   "execution_count": 35,
   "metadata": {},
   "outputs": [
    {
     "data": {
      "image/png": "[encoded data removed]",
      "text/plain": [
       "<Figure size 432x288 with 1 Axes>"
      ]
     },
     "metadata": {
      "needs_background": "light"
     },
     "output_type": "display_data"
    }
   ],
   "source": [
    "plt.hist(df.Ship_Mode)\n",
    "plt.show()"
   ]
  },
  {
   "cell_type": "code",
   "execution_count": 36,
   "metadata": {},
   "outputs": [],
   "source": [
    "# Customer_ID"
   ]
  },
  {
   "cell_type": "code",
   "execution_count": 37,
   "metadata": {},
   "outputs": [],
   "source": [
    "df['test'] = df['Order_ID'].str[:3]"
   ]
  },
  {
   "cell_type": "code",
   "execution_count": 38,
   "metadata": {},
   "outputs": [
    {
     "data": {
      "text/plain": [
       "0        AG-\n",
       "1        IN-\n",
       "2        HU-\n",
       "3        IT-\n",
       "4        IN-\n",
       "        ... \n",
       "51285    CA-\n",
       "51286    MO-\n",
       "51287    MX-\n",
       "51288    MX-\n",
       "51289    CA-\n",
       "Name: test, Length: 51290, dtype: object"
      ]
     },
     "execution_count": 38,
     "metadata": {},
     "output_type": "execute_result"
    }
   ],
   "source": [
    "df.test"
   ]
  },
  {
   "cell_type": "code",
   "execution_count": 39,
   "metadata": {},
   "outputs": [],
   "source": [
    "import re\n",
    "rex = re.compile(\"^[A-Z]{2}-$\")\n",
    "for a in df[\"test\"]:\n",
    "    if rex.match(a) is None:\n",
    "        print(\"True\")"
   ]
  },
  {
   "cell_type": "code",
   "execution_count": 40,
   "metadata": {},
   "outputs": [],
   "source": [
    "df.drop([\"test\"],inplace=True,axis=1)"
   ]
  },
  {
   "cell_type": "code",
   "execution_count": 41,
   "metadata": {},
   "outputs": [],
   "source": [
    "# Customer Name"
   ]
  },
  {
   "cell_type": "code",
   "execution_count": 42,
   "metadata": {},
   "outputs": [
    {
     "data": {
      "text/plain": [
       "0"
      ]
     },
     "execution_count": 42,
     "metadata": {},
     "output_type": "execute_result"
    }
   ],
   "source": [
    "df.Customer_Name.isnull().sum()"
   ]
  },
  {
   "cell_type": "code",
   "execution_count": 43,
   "metadata": {},
   "outputs": [
    {
     "data": {
      "text/plain": [
       "50495"
      ]
     },
     "execution_count": 43,
     "metadata": {},
     "output_type": "execute_result"
    }
   ],
   "source": [
    "df.duplicated([\"Customer_Name\"]).sum()"
   ]
  },
  {
   "cell_type": "code",
   "execution_count": 44,
   "metadata": {},
   "outputs": [
    {
     "data": {
      "text/plain": [
       "795"
      ]
     },
     "execution_count": 44,
     "metadata": {},
     "output_type": "execute_result"
    }
   ],
   "source": [
    "df.Customer_Name.nunique()"
   ]
  },
  {
   "cell_type": "code",
   "execution_count": 45,
   "metadata": {},
   "outputs": [
    {
     "data": {
      "text/plain": [
       "Muhammed Yedwab        108\n",
       "Steven Ward            106\n",
       "Bill Eplett            102\n",
       "Patrick O'Brill        102\n",
       "Gary Hwang             102\n",
       "                      ... \n",
       "Catherine Glotzbach     35\n",
       "David Bremer            34\n",
       "Nicole Brennan          31\n",
       "Darren Budd             31\n",
       "Michael Oakman          29\n",
       "Name: Customer_Name, Length: 795, dtype: int64"
      ]
     },
     "execution_count": 45,
     "metadata": {},
     "output_type": "execute_result"
    }
   ],
   "source": [
    "df.Customer_Name.value_counts()"
   ]
  },
  {
   "cell_type": "code",
   "execution_count": 46,
   "metadata": {},
   "outputs": [],
   "source": [
    "# Segment"
   ]
  },
  {
   "cell_type": "code",
   "execution_count": 47,
   "metadata": {},
   "outputs": [
    {
     "data": {
      "text/plain": [
       "3"
      ]
     },
     "execution_count": 47,
     "metadata": {},
     "output_type": "execute_result"
    }
   ],
   "source": [
    "df.Segment.nunique()"
   ]
  },
  {
   "cell_type": "code",
   "execution_count": 48,
   "metadata": {},
   "outputs": [
    {
     "data": {
      "text/plain": [
       "Consumer       26518\n",
       "Corporate      15429\n",
       "Home Office     9343\n",
       "Name: Segment, dtype: int64"
      ]
     },
     "execution_count": 48,
     "metadata": {},
     "output_type": "execute_result"
    }
   ],
   "source": [
    "df.Segment.value_counts()"
   ]
  },
  {
   "cell_type": "code",
   "execution_count": 49,
   "metadata": {},
   "outputs": [],
   "source": [
    "# City & State & Country"
   ]
  },
  {
   "cell_type": "code",
   "execution_count": 50,
   "metadata": {},
   "outputs": [
    {
     "data": {
      "text/plain": [
       "3636"
      ]
     },
     "execution_count": 50,
     "metadata": {},
     "output_type": "execute_result"
    }
   ],
   "source": [
    "df.City.nunique()"
   ]
  },
  {
   "cell_type": "code",
   "execution_count": 51,
   "metadata": {},
   "outputs": [
    {
     "data": {
      "text/plain": [
       "1094"
      ]
     },
     "execution_count": 51,
     "metadata": {},
     "output_type": "execute_result"
    }
   ],
   "source": [
    "df.State.nunique()"
   ]
  },
  {
   "cell_type": "code",
   "execution_count": 52,
   "metadata": {},
   "outputs": [
    {
     "data": {
      "text/plain": [
       "147"
      ]
     },
     "execution_count": 52,
     "metadata": {},
     "output_type": "execute_result"
    }
   ],
   "source": [
    "df.Country.nunique()"
   ]
  },
  {
   "cell_type": "code",
   "execution_count": 53,
   "metadata": {},
   "outputs": [],
   "source": [
    "df[\"test\"] = df.City + df.State"
   ]
  },
  {
   "cell_type": "code",
   "execution_count": 54,
   "metadata": {},
   "outputs": [
    {
     "data": {
      "text/plain": [
       "3812"
      ]
     },
     "execution_count": 54,
     "metadata": {},
     "output_type": "execute_result"
    }
   ],
   "source": [
    "df.test.nunique()"
   ]
  },
  {
   "cell_type": "code",
   "execution_count": 55,
   "metadata": {},
   "outputs": [],
   "source": [
    "df['test1'] = df.State + df.Country"
   ]
  },
  {
   "cell_type": "code",
   "execution_count": 56,
   "metadata": {},
   "outputs": [
    {
     "data": {
      "text/plain": [
       "1119"
      ]
     },
     "execution_count": 56,
     "metadata": {},
     "output_type": "execute_result"
    }
   ],
   "source": [
    "df.test1.nunique()"
   ]
  },
  {
   "cell_type": "code",
   "execution_count": 57,
   "metadata": {},
   "outputs": [],
   "source": [
    "df[\"test2\"] = df.City + df.Country"
   ]
  },
  {
   "cell_type": "code",
   "execution_count": 58,
   "metadata": {},
   "outputs": [
    {
     "data": {
      "text/plain": [
       "3703"
      ]
     },
     "execution_count": 58,
     "metadata": {},
     "output_type": "execute_result"
    }
   ],
   "source": [
    "df.test2.nunique()"
   ]
  },
  {
   "cell_type": "code",
   "execution_count": 59,
   "metadata": {},
   "outputs": [],
   "source": [
    "df.drop(['test','test1','test2'],inplace=True,axis=1)"
   ]
  },
  {
   "cell_type": "code",
   "execution_count": 60,
   "metadata": {},
   "outputs": [],
   "source": [
    "# In an ideal situation, test and test2 should give 3636 unique combinations\n",
    "# test1 should give 1094 unique combinations"
   ]
  },
  {
   "cell_type": "code",
   "execution_count": 61,
   "metadata": {},
   "outputs": [
    {
     "data": {
      "text/plain": [
       "0"
      ]
     },
     "execution_count": 61,
     "metadata": {},
     "output_type": "execute_result"
    }
   ],
   "source": [
    "df.City.isnull().sum()"
   ]
  },
  {
   "cell_type": "code",
   "execution_count": 62,
   "metadata": {},
   "outputs": [
    {
     "data": {
      "text/plain": [
       "0"
      ]
     },
     "execution_count": 62,
     "metadata": {},
     "output_type": "execute_result"
    }
   ],
   "source": [
    "df.Country.isnull().sum()"
   ]
  },
  {
   "cell_type": "code",
   "execution_count": 63,
   "metadata": {},
   "outputs": [],
   "source": [
    "# Postal code"
   ]
  },
  {
   "cell_type": "code",
   "execution_count": 64,
   "metadata": {},
   "outputs": [
    {
     "data": {
      "text/plain": [
       "41296"
      ]
     },
     "execution_count": 64,
     "metadata": {},
     "output_type": "execute_result"
    }
   ],
   "source": [
    "df.Postal_Code.isnull().sum()"
   ]
  },
  {
   "cell_type": "code",
   "execution_count": 65,
   "metadata": {},
   "outputs": [
    {
     "data": {
      "text/plain": [
       "0.8051472021836615"
      ]
     },
     "execution_count": 65,
     "metadata": {},
     "output_type": "execute_result"
    }
   ],
   "source": [
    "41296/51290"
   ]
  },
  {
   "cell_type": "code",
   "execution_count": 66,
   "metadata": {},
   "outputs": [],
   "source": [
    "# We won't need this column"
   ]
  },
  {
   "cell_type": "code",
   "execution_count": 67,
   "metadata": {},
   "outputs": [],
   "source": [
    "df.drop([\"Postal_Code\"],inplace=True,axis=1)"
   ]
  },
  {
   "cell_type": "code",
   "execution_count": 68,
   "metadata": {},
   "outputs": [],
   "source": [
    "# Market"
   ]
  },
  {
   "cell_type": "code",
   "execution_count": 69,
   "metadata": {},
   "outputs": [
    {
     "data": {
      "text/plain": [
       "7"
      ]
     },
     "execution_count": 69,
     "metadata": {},
     "output_type": "execute_result"
    }
   ],
   "source": [
    "df.Marcket.nunique()"
   ]
  },
  {
   "cell_type": "code",
   "execution_count": 70,
   "metadata": {},
   "outputs": [
    {
     "data": {
      "text/plain": [
       "APAC      11002\n",
       "LATAM     10294\n",
       "EU        10000\n",
       "US         9994\n",
       "EMEA       5029\n",
       "Africa     4587\n",
       "Canada      384\n",
       "Name: Marcket, dtype: int64"
      ]
     },
     "execution_count": 70,
     "metadata": {},
     "output_type": "execute_result"
    }
   ],
   "source": [
    "df.Marcket.value_counts()"
   ]
  },
  {
   "cell_type": "code",
   "execution_count": 71,
   "metadata": {},
   "outputs": [],
   "source": [
    "# Region"
   ]
  },
  {
   "cell_type": "code",
   "execution_count": 72,
   "metadata": {},
   "outputs": [
    {
     "data": {
      "text/plain": [
       "13"
      ]
     },
     "execution_count": 72,
     "metadata": {},
     "output_type": "execute_result"
    }
   ],
   "source": [
    "df.Region.nunique()"
   ]
  },
  {
   "cell_type": "code",
   "execution_count": 73,
   "metadata": {},
   "outputs": [
    {
     "data": {
      "text/plain": [
       "Central           11117\n",
       "South              6645\n",
       "EMEA               5029\n",
       "North              4785\n",
       "Africa             4587\n",
       "Oceania            3487\n",
       "West               3203\n",
       "Southeast Asia     3129\n",
       "East               2848\n",
       "North Asia         2338\n",
       "Central Asia       2048\n",
       "Caribbean          1690\n",
       "Canada              384\n",
       "Name: Region, dtype: int64"
      ]
     },
     "execution_count": 73,
     "metadata": {},
     "output_type": "execute_result"
    }
   ],
   "source": [
    "df.Region.value_counts()"
   ]
  },
  {
   "cell_type": "code",
   "execution_count": 74,
   "metadata": {},
   "outputs": [],
   "source": [
    "# Product ID"
   ]
  },
  {
   "cell_type": "code",
   "execution_count": 75,
   "metadata": {},
   "outputs": [
    {
     "data": {
      "text/plain": [
       "10292"
      ]
     },
     "execution_count": 75,
     "metadata": {},
     "output_type": "execute_result"
    }
   ],
   "source": [
    "df.Product_ID.nunique()"
   ]
  },
  {
   "cell_type": "code",
   "execution_count": 76,
   "metadata": {},
   "outputs": [
    {
     "name": "stdout",
     "output_type": "stream",
     "text": [
      "TEC-HP -10003618\n",
      "TEC-HP -10001577\n",
      "TEC-HP -10004012\n",
      "TEC-HP -10000464\n",
      "TEC-HP -10004590\n",
      "TEC-HP -10003248\n",
      "TEC-HP -10004971\n",
      "TEC-HP -10003248\n",
      "TEC-HP -10003618\n",
      "TEC-HP -10004451\n",
      "TEC-HP -10002603\n",
      "TEC-HP -10004082\n",
      "TEC-HP -10003894\n",
      "TEC-HP -10003894\n",
      "TEC-HP -10003618\n",
      "TEC-HP -10001577\n",
      "TEC-HP -10002095\n",
      "TEC-HP -10000464\n",
      "TEC-HP -10002307\n",
      "TEC-HP -10003618\n",
      "TEC-HP -10004012\n",
      "TEC-HP -10001905\n",
      "TEC-HP -10004012\n",
      "TEC-HP -10004590\n",
      "TEC-HP -10003894\n",
      "TEC-HP -10004149\n",
      "TEC-HP -10000081\n",
      "TEC-HP -10002221\n",
      "TEC-HP -10002221\n",
      "TEC-HP -10001426\n",
      "TEC-HP -10003248\n",
      "TEC-HP -10004590\n",
      "TEC-HP -10004451\n",
      "TEC-HP -10004149\n",
      "TEC-HP -10002221\n",
      "TEC-HP -10001574\n",
      "TEC-HP -10000081\n",
      "TEC-HP -10000464\n",
      "TEC-HP -10004801\n",
      "TEC-HP -10002095\n",
      "TEC-HP -10004801\n",
      "TEC-HP -10001426\n",
      "TEC-HP -10002307\n",
      "TEC-HP -10002603\n",
      "TEC-HP -10003248\n",
      "TEC-HP -10001426\n",
      "TEC-HP -10000081\n",
      "TEC-HP -10002221\n",
      "TEC-HP -10001574\n",
      "TEC-HP -10001577\n",
      "TEC-HP -10004801\n",
      "TEC-HP -10000464\n",
      "TEC-HP -10004149\n",
      "TEC-HP -10004801\n",
      "TEC-HP -10004590\n",
      "TEC-HP -10003345\n",
      "TEC-HP -10004082\n",
      "TEC-HP -10002095\n",
      "TEC-HP -10003559\n",
      "TEC-HP -10002603\n",
      "TEC-HP -10002095\n",
      "TEC-HP -10004149\n",
      "TEC-HP -10001905\n",
      "TEC-HP -10004149\n",
      "TEC-HP -10004801\n",
      "TEC-HP -10003345\n",
      "TEC-HP -10003894\n",
      "TEC-HP -10003248\n",
      "TEC-HP -10001115\n",
      "TEC-HP -10003345\n",
      "TEC-HP -10003248\n",
      "TEC-HP -10001905\n",
      "TEC-HP -10003345\n",
      "TEC-HP -10003618\n",
      "TEC-HP -10002095\n",
      "TEC-HP -10001574\n",
      "TEC-HP -10002603\n",
      "TEC-HP -10001426\n",
      "TEC-HP -10004590\n",
      "TEC-HP -10001905\n",
      "TEC-HP -10000081\n",
      "TEC-HP -10002221\n",
      "TEC-HP -10003894\n"
     ]
    }
   ],
   "source": [
    "rex = re.compile(\"^[A-Z]{3}-[A-Z]{3}-[0-9]{8}$\")\n",
    "rex1 = re.compile(\"^[A-Z]{3}-[A-Z]{2}-[0-9]{8}$\")\n",
    "for a in df[\"Product_ID\"]:\n",
    "    if rex.match(a) is None:\n",
    "        if rex1.match(a) is None:\n",
    "            print(a)"
   ]
  },
  {
   "cell_type": "code",
   "execution_count": 77,
   "metadata": {},
   "outputs": [],
   "source": [
    "df.Product_ID = df.Product_ID.str.replace(' ', '')"
   ]
  },
  {
   "cell_type": "code",
   "execution_count": 78,
   "metadata": {},
   "outputs": [],
   "source": [
    "rex = re.compile(\"^[A-Z]{3}-[A-Z]{3}-[0-9]{8}$\")\n",
    "rex1 = re.compile(\"^[A-Z]{3}-[A-Z]{2}-[0-9]{8}$\")\n",
    "for a in df[\"Product_ID\"]:\n",
    "    if rex.match(a) is None:\n",
    "        if rex1.match(a) is None:\n",
    "            print(a)"
   ]
  },
  {
   "cell_type": "code",
   "execution_count": 79,
   "metadata": {},
   "outputs": [],
   "source": [
    "# Category"
   ]
  },
  {
   "cell_type": "code",
   "execution_count": 80,
   "metadata": {},
   "outputs": [
    {
     "data": {
      "text/plain": [
       "3"
      ]
     },
     "execution_count": 80,
     "metadata": {},
     "output_type": "execute_result"
    }
   ],
   "source": [
    "df.Category.nunique()"
   ]
  },
  {
   "cell_type": "code",
   "execution_count": 81,
   "metadata": {},
   "outputs": [
    {
     "data": {
      "text/plain": [
       "Office Supplies    31273\n",
       "Technology         10141\n",
       "Furniture           9876\n",
       "Name: Category, dtype: int64"
      ]
     },
     "execution_count": 81,
     "metadata": {},
     "output_type": "execute_result"
    }
   ],
   "source": [
    "df.Category.value_counts()"
   ]
  },
  {
   "cell_type": "code",
   "execution_count": 82,
   "metadata": {},
   "outputs": [],
   "source": [
    "# Sub-Category"
   ]
  },
  {
   "cell_type": "code",
   "execution_count": 83,
   "metadata": {},
   "outputs": [
    {
     "data": {
      "text/plain": [
       "17"
      ]
     },
     "execution_count": 83,
     "metadata": {},
     "output_type": "execute_result"
    }
   ],
   "source": [
    "df.Sub_Cat.nunique()"
   ]
  },
  {
   "cell_type": "code",
   "execution_count": 84,
   "metadata": {},
   "outputs": [
    {
     "data": {
      "text/plain": [
       "Binders        6152\n",
       "Storage        5059\n",
       "Art            4883\n",
       "Paper          3538\n",
       "Chairs         3434\n",
       "Phones         3357\n",
       "Furnishings    3170\n",
       "Accessories    3075\n",
       "Labels         2606\n",
       "Envelopes      2435\n",
       "Supplies       2425\n",
       "Fasteners      2420\n",
       "Bookcases      2411\n",
       "Copiers        2223\n",
       "Appliances     1755\n",
       "Machines       1486\n",
       "Tables          861\n",
       "Name: Sub_Cat, dtype: int64"
      ]
     },
     "execution_count": 84,
     "metadata": {},
     "output_type": "execute_result"
    }
   ],
   "source": [
    "df.Sub_Cat.value_counts()"
   ]
  },
  {
   "cell_type": "code",
   "execution_count": 85,
   "metadata": {},
   "outputs": [],
   "source": [
    "df['test'] = df.Category + df.Sub_Cat"
   ]
  },
  {
   "cell_type": "code",
   "execution_count": 86,
   "metadata": {},
   "outputs": [
    {
     "data": {
      "text/plain": [
       "17"
      ]
     },
     "execution_count": 86,
     "metadata": {},
     "output_type": "execute_result"
    }
   ],
   "source": [
    "df.test.nunique()"
   ]
  },
  {
   "cell_type": "code",
   "execution_count": 87,
   "metadata": {},
   "outputs": [],
   "source": [
    "df.drop(['test'],inplace=True,axis=1)"
   ]
  },
  {
   "cell_type": "code",
   "execution_count": 88,
   "metadata": {},
   "outputs": [],
   "source": [
    "# Product Name"
   ]
  },
  {
   "cell_type": "code",
   "execution_count": 89,
   "metadata": {},
   "outputs": [
    {
     "data": {
      "text/plain": [
       "0"
      ]
     },
     "execution_count": 89,
     "metadata": {},
     "output_type": "execute_result"
    }
   ],
   "source": [
    "df.Product_Name.isnull().sum()"
   ]
  },
  {
   "cell_type": "code",
   "execution_count": 90,
   "metadata": {},
   "outputs": [],
   "source": [
    "# Order Priority"
   ]
  },
  {
   "cell_type": "code",
   "execution_count": 91,
   "metadata": {},
   "outputs": [
    {
     "data": {
      "text/plain": [
       "4"
      ]
     },
     "execution_count": 91,
     "metadata": {},
     "output_type": "execute_result"
    }
   ],
   "source": [
    "df.Order_Priority.nunique()"
   ]
  },
  {
   "cell_type": "code",
   "execution_count": 92,
   "metadata": {},
   "outputs": [
    {
     "data": {
      "text/plain": [
       "Medium      29433\n",
       "High        15501\n",
       "Critical     3932\n",
       "Low          2424\n",
       "Name: Order_Priority, dtype: int64"
      ]
     },
     "execution_count": 92,
     "metadata": {},
     "output_type": "execute_result"
    }
   ],
   "source": [
    "df.Order_Priority.value_counts()"
   ]
  },
  {
   "cell_type": "code",
   "execution_count": 93,
   "metadata": {},
   "outputs": [],
   "source": [
    "def outlier(datacolumn):\n",
    "    sorted(datacolumn)\n",
    "    Q1,Q3 = np.percentile(datacolumn , [25,75])\n",
    "    IQR = Q3 - Q1\n",
    "    lower_range = Q1 - (1.5 * IQR)\n",
    "    upper_range = Q3 + (1.5 * IQR)\n",
    "    print (lower_range,upper_range)\n",
    "    plt.hist(datacolumn)\n",
    "    plt.show()"
   ]
  },
  {
   "cell_type": "code",
   "execution_count": 94,
   "metadata": {},
   "outputs": [],
   "source": [
    "# Sales Quantity Discount Profit Shipping Cost"
   ]
  },
  {
   "cell_type": "code",
   "execution_count": 95,
   "metadata": {},
   "outputs": [
    {
     "name": "stdout",
     "output_type": "stream",
     "text": [
      "-299.6832375 581.4950625\n"
     ]
    },
    {
     "data": {
      "image/png": "[encoded data removed]",
      "text/plain": [
       "<Figure size 432x288 with 1 Axes>"
      ]
     },
     "metadata": {
      "needs_background": "light"
     },
     "output_type": "display_data"
    }
   ],
   "source": [
    "outlier(df.Sales)"
   ]
  },
  {
   "cell_type": "code",
   "execution_count": 96,
   "metadata": {},
   "outputs": [
    {
     "data": {
      "text/html": [
       "<div>\n",
       "<style scoped>\n",
       "    .dataframe tbody tr th:only-of-type {\n",
       "        vertical-align: middle;\n",
       "    }\n",
       "\n",
       "    .dataframe tbody tr th {\n",
       "        vertical-align: top;\n",
       "    }\n",
       "\n",
       "    .dataframe thead th {\n",
       "        text-align: right;\n",
       "    }\n",
       "</style>\n",
       "<table border=\"1\" class=\"dataframe\">\n",
       "  <thead>\n",
       "    <tr style=\"text-align: right;\">\n",
       "      <th></th>\n",
       "      <th>Row_ID</th>\n",
       "      <th>Order_ID</th>\n",
       "      <th>Order_Date</th>\n",
       "      <th>Ship_Date</th>\n",
       "      <th>Ship_Mode</th>\n",
       "      <th>Customer_ID</th>\n",
       "      <th>Customer_Name</th>\n",
       "      <th>Segment</th>\n",
       "      <th>City</th>\n",
       "      <th>State</th>\n",
       "      <th>...</th>\n",
       "      <th>Product_ID</th>\n",
       "      <th>Category</th>\n",
       "      <th>Sub_Cat</th>\n",
       "      <th>Product_Name</th>\n",
       "      <th>Sales</th>\n",
       "      <th>Quantity</th>\n",
       "      <th>Discount</th>\n",
       "      <th>Profit</th>\n",
       "      <th>Shipping_Cost</th>\n",
       "      <th>Order_Priority</th>\n",
       "    </tr>\n",
       "  </thead>\n",
       "  <tbody>\n",
       "    <tr>\n",
       "      <th>24</th>\n",
       "      <td>13130</td>\n",
       "      <td>ES-2011-1705541</td>\n",
       "      <td>2011-03-01</td>\n",
       "      <td>2011-03-06</td>\n",
       "      <td>Standard Class</td>\n",
       "      <td>TS-21370</td>\n",
       "      <td>Todd Sumrall</td>\n",
       "      <td>Corporate</td>\n",
       "      <td>Farnborough</td>\n",
       "      <td>England</td>\n",
       "      <td>...</td>\n",
       "      <td>FUR-BO-10000259</td>\n",
       "      <td>Furniture</td>\n",
       "      <td>Bookcases</td>\n",
       "      <td>Safco Classic Bookcase, Traditional</td>\n",
       "      <td>1314.4500</td>\n",
       "      <td>3</td>\n",
       "      <td>0.00</td>\n",
       "      <td>341.7300</td>\n",
       "      <td>150.40</td>\n",
       "      <td>High</td>\n",
       "    </tr>\n",
       "    <tr>\n",
       "      <th>25</th>\n",
       "      <td>48599</td>\n",
       "      <td>UP-2011-3730</td>\n",
       "      <td>2011-03-01</td>\n",
       "      <td>2011-03-05</td>\n",
       "      <td>Standard Class</td>\n",
       "      <td>RD-9900</td>\n",
       "      <td>Ruben Dartt</td>\n",
       "      <td>Consumer</td>\n",
       "      <td>Vinnytsya</td>\n",
       "      <td>Vinnytsya</td>\n",
       "      <td>...</td>\n",
       "      <td>TEC-LOG-10003896</td>\n",
       "      <td>Technology</td>\n",
       "      <td>Accessories</td>\n",
       "      <td>Logitech Router, Erganomic</td>\n",
       "      <td>1470.7800</td>\n",
       "      <td>6</td>\n",
       "      <td>0.00</td>\n",
       "      <td>264.6000</td>\n",
       "      <td>146.55</td>\n",
       "      <td>Medium</td>\n",
       "    </tr>\n",
       "    <tr>\n",
       "      <th>27</th>\n",
       "      <td>37844</td>\n",
       "      <td>CA-2011-113880</td>\n",
       "      <td>2011-03-01</td>\n",
       "      <td>2011-03-05</td>\n",
       "      <td>Standard Class</td>\n",
       "      <td>VF-21715</td>\n",
       "      <td>Vicky Freymann</td>\n",
       "      <td>Home Office</td>\n",
       "      <td>Elmhurst</td>\n",
       "      <td>Illinois</td>\n",
       "      <td>...</td>\n",
       "      <td>FUR-CH-10000863</td>\n",
       "      <td>Furniture</td>\n",
       "      <td>Chairs</td>\n",
       "      <td>Novimex Swivel Fabric Task Chair</td>\n",
       "      <td>634.1160</td>\n",
       "      <td>6</td>\n",
       "      <td>0.30</td>\n",
       "      <td>-172.1172</td>\n",
       "      <td>70.05</td>\n",
       "      <td>High</td>\n",
       "    </tr>\n",
       "    <tr>\n",
       "      <th>29</th>\n",
       "      <td>13131</td>\n",
       "      <td>ES-2011-1705541</td>\n",
       "      <td>2011-03-01</td>\n",
       "      <td>2011-03-06</td>\n",
       "      <td>Standard Class</td>\n",
       "      <td>TS-21370</td>\n",
       "      <td>Todd Sumrall</td>\n",
       "      <td>Corporate</td>\n",
       "      <td>Farnborough</td>\n",
       "      <td>England</td>\n",
       "      <td>...</td>\n",
       "      <td>FUR-CH-10002830</td>\n",
       "      <td>Furniture</td>\n",
       "      <td>Chairs</td>\n",
       "      <td>Office Star Rocking Chair, Red</td>\n",
       "      <td>704.5500</td>\n",
       "      <td>5</td>\n",
       "      <td>0.00</td>\n",
       "      <td>288.7500</td>\n",
       "      <td>64.40</td>\n",
       "      <td>High</td>\n",
       "    </tr>\n",
       "    <tr>\n",
       "      <th>30</th>\n",
       "      <td>48593</td>\n",
       "      <td>UP-2011-3730</td>\n",
       "      <td>2011-03-01</td>\n",
       "      <td>2011-03-05</td>\n",
       "      <td>Standard Class</td>\n",
       "      <td>RD-9900</td>\n",
       "      <td>Ruben Dartt</td>\n",
       "      <td>Consumer</td>\n",
       "      <td>Vinnytsya</td>\n",
       "      <td>Vinnytsya</td>\n",
       "      <td>...</td>\n",
       "      <td>OFF-FEL-10002867</td>\n",
       "      <td>Office Supplies</td>\n",
       "      <td>Storage</td>\n",
       "      <td>Fellowes Lockers, Single Width</td>\n",
       "      <td>1244.1600</td>\n",
       "      <td>6</td>\n",
       "      <td>0.00</td>\n",
       "      <td>211.5000</td>\n",
       "      <td>60.78</td>\n",
       "      <td>Medium</td>\n",
       "    </tr>\n",
       "    <tr>\n",
       "      <th>...</th>\n",
       "      <td>...</td>\n",
       "      <td>...</td>\n",
       "      <td>...</td>\n",
       "      <td>...</td>\n",
       "      <td>...</td>\n",
       "      <td>...</td>\n",
       "      <td>...</td>\n",
       "      <td>...</td>\n",
       "      <td>...</td>\n",
       "      <td>...</td>\n",
       "      <td>...</td>\n",
       "      <td>...</td>\n",
       "      <td>...</td>\n",
       "      <td>...</td>\n",
       "      <td>...</td>\n",
       "      <td>...</td>\n",
       "      <td>...</td>\n",
       "      <td>...</td>\n",
       "      <td>...</td>\n",
       "      <td>...</td>\n",
       "      <td>...</td>\n",
       "    </tr>\n",
       "    <tr>\n",
       "      <th>51229</th>\n",
       "      <td>26535</td>\n",
       "      <td>IN-2014-43550</td>\n",
       "      <td>2014-12-31</td>\n",
       "      <td>2015-01-01</td>\n",
       "      <td>First Class</td>\n",
       "      <td>ML-17395</td>\n",
       "      <td>Marina Lichtenstein</td>\n",
       "      <td>Corporate</td>\n",
       "      <td>Jakarta</td>\n",
       "      <td>Jakarta</td>\n",
       "      <td>...</td>\n",
       "      <td>FUR-BO-10004679</td>\n",
       "      <td>Furniture</td>\n",
       "      <td>Bookcases</td>\n",
       "      <td>Safco Library with Doors, Pine</td>\n",
       "      <td>1091.2806</td>\n",
       "      <td>3</td>\n",
       "      <td>0.07</td>\n",
       "      <td>46.9206</td>\n",
       "      <td>243.11</td>\n",
       "      <td>High</td>\n",
       "    </tr>\n",
       "    <tr>\n",
       "      <th>51230</th>\n",
       "      <td>44025</td>\n",
       "      <td>RS-2014-1460</td>\n",
       "      <td>2014-12-31</td>\n",
       "      <td>2015-01-02</td>\n",
       "      <td>Second Class</td>\n",
       "      <td>PB-9105</td>\n",
       "      <td>Peter Bühler</td>\n",
       "      <td>Consumer</td>\n",
       "      <td>Ufa</td>\n",
       "      <td>Bashkortostan</td>\n",
       "      <td>...</td>\n",
       "      <td>TEC-HEW-10004652</td>\n",
       "      <td>Technology</td>\n",
       "      <td>Copiers</td>\n",
       "      <td>Hewlett Personal Copier, Laser</td>\n",
       "      <td>865.6200</td>\n",
       "      <td>6</td>\n",
       "      <td>0.00</td>\n",
       "      <td>51.8400</td>\n",
       "      <td>138.18</td>\n",
       "      <td>High</td>\n",
       "    </tr>\n",
       "    <tr>\n",
       "      <th>51231</th>\n",
       "      <td>26333</td>\n",
       "      <td>IN-2014-30390</td>\n",
       "      <td>2014-12-31</td>\n",
       "      <td>2015-01-03</td>\n",
       "      <td>First Class</td>\n",
       "      <td>JD-16150</td>\n",
       "      <td>Justin Deggeller</td>\n",
       "      <td>Corporate</td>\n",
       "      <td>Bangkok</td>\n",
       "      <td>Bangkok</td>\n",
       "      <td>...</td>\n",
       "      <td>FUR-TA-10001531</td>\n",
       "      <td>Furniture</td>\n",
       "      <td>Tables</td>\n",
       "      <td>Lesro Training Table, Adjustable Height</td>\n",
       "      <td>1048.7313</td>\n",
       "      <td>9</td>\n",
       "      <td>0.57</td>\n",
       "      <td>-1195.2387</td>\n",
       "      <td>86.86</td>\n",
       "      <td>High</td>\n",
       "    </tr>\n",
       "    <tr>\n",
       "      <th>51232</th>\n",
       "      <td>12929</td>\n",
       "      <td>ES-2014-3458802</td>\n",
       "      <td>2014-12-31</td>\n",
       "      <td>2015-01-05</td>\n",
       "      <td>Standard Class</td>\n",
       "      <td>JG-15805</td>\n",
       "      <td>John Grady</td>\n",
       "      <td>Corporate</td>\n",
       "      <td>Maidenhead</td>\n",
       "      <td>England</td>\n",
       "      <td>...</td>\n",
       "      <td>TEC-PH-10003683</td>\n",
       "      <td>Technology</td>\n",
       "      <td>Phones</td>\n",
       "      <td>Motorola Audio Dock, VoIP</td>\n",
       "      <td>867.3000</td>\n",
       "      <td>5</td>\n",
       "      <td>0.00</td>\n",
       "      <td>251.4000</td>\n",
       "      <td>53.16</td>\n",
       "      <td>Medium</td>\n",
       "    </tr>\n",
       "    <tr>\n",
       "      <th>51239</th>\n",
       "      <td>28570</td>\n",
       "      <td>ID-2014-54442</td>\n",
       "      <td>2014-12-31</td>\n",
       "      <td>2015-01-04</td>\n",
       "      <td>Standard Class</td>\n",
       "      <td>MY-18295</td>\n",
       "      <td>Muhammed Yedwab</td>\n",
       "      <td>Corporate</td>\n",
       "      <td>Manila</td>\n",
       "      <td>National Capital</td>\n",
       "      <td>...</td>\n",
       "      <td>TEC-CO-10000666</td>\n",
       "      <td>Technology</td>\n",
       "      <td>Copiers</td>\n",
       "      <td>Hewlett Copy Machine, Laser</td>\n",
       "      <td>684.6060</td>\n",
       "      <td>4</td>\n",
       "      <td>0.35</td>\n",
       "      <td>-63.2340</td>\n",
       "      <td>42.92</td>\n",
       "      <td>Medium</td>\n",
       "    </tr>\n",
       "  </tbody>\n",
       "</table>\n",
       "<p>5648 rows × 23 columns</p>\n",
       "</div>"
      ],
      "text/plain": [
       "       Row_ID         Order_ID Order_Date  Ship_Date       Ship_Mode  \\\n",
       "24      13130  ES-2011-1705541 2011-03-01 2011-03-06  Standard Class   \n",
       "25      48599     UP-2011-3730 2011-03-01 2011-03-05  Standard Class   \n",
       "27      37844   CA-2011-113880 2011-03-01 2011-03-05  Standard Class   \n",
       "29      13131  ES-2011-1705541 2011-03-01 2011-03-06  Standard Class   \n",
       "30      48593     UP-2011-3730 2011-03-01 2011-03-05  Standard Class   \n",
       "...       ...              ...        ...        ...             ...   \n",
       "51229   26535    IN-2014-43550 2014-12-31 2015-01-01     First Class   \n",
       "51230   44025     RS-2014-1460 2014-12-31 2015-01-02    Second Class   \n",
       "51231   26333    IN-2014-30390 2014-12-31 2015-01-03     First Class   \n",
       "51232   12929  ES-2014-3458802 2014-12-31 2015-01-05  Standard Class   \n",
       "51239   28570    ID-2014-54442 2014-12-31 2015-01-04  Standard Class   \n",
       "\n",
       "      Customer_ID        Customer_Name      Segment         City  \\\n",
       "24       TS-21370         Todd Sumrall    Corporate  Farnborough   \n",
       "25        RD-9900          Ruben Dartt     Consumer    Vinnytsya   \n",
       "27       VF-21715       Vicky Freymann  Home Office     Elmhurst   \n",
       "29       TS-21370         Todd Sumrall    Corporate  Farnborough   \n",
       "30        RD-9900          Ruben Dartt     Consumer    Vinnytsya   \n",
       "...           ...                  ...          ...          ...   \n",
       "51229    ML-17395  Marina Lichtenstein    Corporate      Jakarta   \n",
       "51230     PB-9105         Peter Bühler     Consumer          Ufa   \n",
       "51231    JD-16150     Justin Deggeller    Corporate      Bangkok   \n",
       "51232    JG-15805           John Grady    Corporate   Maidenhead   \n",
       "51239    MY-18295      Muhammed Yedwab    Corporate       Manila   \n",
       "\n",
       "                  State  ...        Product_ID         Category      Sub_Cat  \\\n",
       "24              England  ...   FUR-BO-10000259        Furniture    Bookcases   \n",
       "25            Vinnytsya  ...  TEC-LOG-10003896       Technology  Accessories   \n",
       "27             Illinois  ...   FUR-CH-10000863        Furniture       Chairs   \n",
       "29              England  ...   FUR-CH-10002830        Furniture       Chairs   \n",
       "30            Vinnytsya  ...  OFF-FEL-10002867  Office Supplies      Storage   \n",
       "...                 ...  ...               ...              ...          ...   \n",
       "51229           Jakarta  ...   FUR-BO-10004679        Furniture    Bookcases   \n",
       "51230     Bashkortostan  ...  TEC-HEW-10004652       Technology      Copiers   \n",
       "51231           Bangkok  ...   FUR-TA-10001531        Furniture       Tables   \n",
       "51232           England  ...   TEC-PH-10003683       Technology       Phones   \n",
       "51239  National Capital  ...   TEC-CO-10000666       Technology      Copiers   \n",
       "\n",
       "                                  Product_Name      Sales Quantity Discount  \\\n",
       "24         Safco Classic Bookcase, Traditional  1314.4500        3     0.00   \n",
       "25                  Logitech Router, Erganomic  1470.7800        6     0.00   \n",
       "27            Novimex Swivel Fabric Task Chair   634.1160        6     0.30   \n",
       "29              Office Star Rocking Chair, Red   704.5500        5     0.00   \n",
       "30              Fellowes Lockers, Single Width  1244.1600        6     0.00   \n",
       "...                                        ...        ...      ...      ...   \n",
       "51229           Safco Library with Doors, Pine  1091.2806        3     0.07   \n",
       "51230           Hewlett Personal Copier, Laser   865.6200        6     0.00   \n",
       "51231  Lesro Training Table, Adjustable Height  1048.7313        9     0.57   \n",
       "51232                Motorola Audio Dock, VoIP   867.3000        5     0.00   \n",
       "51239              Hewlett Copy Machine, Laser   684.6060        4     0.35   \n",
       "\n",
       "          Profit  Shipping_Cost  Order_Priority  \n",
       "24      341.7300         150.40            High  \n",
       "25      264.6000         146.55          Medium  \n",
       "27     -172.1172          70.05            High  \n",
       "29      288.7500          64.40            High  \n",
       "30      211.5000          60.78          Medium  \n",
       "...          ...            ...             ...  \n",
       "51229    46.9206         243.11            High  \n",
       "51230    51.8400         138.18            High  \n",
       "51231 -1195.2387          86.86            High  \n",
       "51232   251.4000          53.16          Medium  \n",
       "51239   -63.2340          42.92          Medium  \n",
       "\n",
       "[5648 rows x 23 columns]"
      ]
     },
     "execution_count": 96,
     "metadata": {},
     "output_type": "execute_result"
    }
   ],
   "source": [
    "df[df.Sales > 582]"
   ]
  },
  {
   "cell_type": "code",
   "execution_count": 97,
   "metadata": {},
   "outputs": [
    {
     "name": "stdout",
     "output_type": "stream",
     "text": [
      "-2.5 9.5\n"
     ]
    },
    {
     "data": {
      "image/png": "[encoded data removed]",
      "text/plain": [
       "<Figure size 432x288 with 1 Axes>"
      ]
     },
     "metadata": {
      "needs_background": "light"
     },
     "output_type": "display_data"
    }
   ],
   "source": [
    "outlier(df.Quantity)"
   ]
  },
  {
   "cell_type": "code",
   "execution_count": 99,
   "metadata": {},
   "outputs": [
    {
     "data": {
      "text/html": [
       "<div>\n",
       "<style scoped>\n",
       "    .dataframe tbody tr th:only-of-type {\n",
       "        vertical-align: middle;\n",
       "    }\n",
       "\n",
       "    .dataframe tbody tr th {\n",
       "        vertical-align: top;\n",
       "    }\n",
       "\n",
       "    .dataframe thead th {\n",
       "        text-align: right;\n",
       "    }\n",
       "</style>\n",
       "<table border=\"1\" class=\"dataframe\">\n",
       "  <thead>\n",
       "    <tr style=\"text-align: right;\">\n",
       "      <th></th>\n",
       "      <th>Row_ID</th>\n",
       "      <th>Order_ID</th>\n",
       "      <th>Order_Date</th>\n",
       "      <th>Ship_Date</th>\n",
       "      <th>Ship_Mode</th>\n",
       "      <th>Customer_ID</th>\n",
       "      <th>Customer_Name</th>\n",
       "      <th>Segment</th>\n",
       "      <th>City</th>\n",
       "      <th>State</th>\n",
       "      <th>...</th>\n",
       "      <th>Product_ID</th>\n",
       "      <th>Category</th>\n",
       "      <th>Sub_Cat</th>\n",
       "      <th>Product_Name</th>\n",
       "      <th>Sales</th>\n",
       "      <th>Quantity</th>\n",
       "      <th>Discount</th>\n",
       "      <th>Profit</th>\n",
       "      <th>Shipping_Cost</th>\n",
       "      <th>Order_Priority</th>\n",
       "    </tr>\n",
       "  </thead>\n",
       "  <tbody>\n",
       "    <tr>\n",
       "      <th>61</th>\n",
       "      <td>12529</td>\n",
       "      <td>ES-2011-1416586</td>\n",
       "      <td>2011-03-01</td>\n",
       "      <td>2011-03-04</td>\n",
       "      <td>Second Class</td>\n",
       "      <td>EL-13735</td>\n",
       "      <td>Ed Ludwig</td>\n",
       "      <td>Home Office</td>\n",
       "      <td>Bochum</td>\n",
       "      <td>North Rhine-Westphalia</td>\n",
       "      <td>...</td>\n",
       "      <td>OFF-AR-10000505</td>\n",
       "      <td>Office Supplies</td>\n",
       "      <td>Art</td>\n",
       "      <td>Binney &amp; Smith Pens, Easy-Erase</td>\n",
       "      <td>146.520</td>\n",
       "      <td>12</td>\n",
       "      <td>0.0</td>\n",
       "      <td>0.000</td>\n",
       "      <td>3.35</td>\n",
       "      <td>Medium</td>\n",
       "    </tr>\n",
       "    <tr>\n",
       "      <th>106</th>\n",
       "      <td>16113</td>\n",
       "      <td>ES-2011-5940123</td>\n",
       "      <td>2011-06-01</td>\n",
       "      <td>2011-06-04</td>\n",
       "      <td>Second Class</td>\n",
       "      <td>MC-18130</td>\n",
       "      <td>Mike Caudle</td>\n",
       "      <td>Corporate</td>\n",
       "      <td>Warrington</td>\n",
       "      <td>England</td>\n",
       "      <td>...</td>\n",
       "      <td>TEC-AC-10000140</td>\n",
       "      <td>Technology</td>\n",
       "      <td>Accessories</td>\n",
       "      <td>Enermax Numeric Keypad, Bluetooth</td>\n",
       "      <td>805.560</td>\n",
       "      <td>14</td>\n",
       "      <td>0.0</td>\n",
       "      <td>185.220</td>\n",
       "      <td>80.12</td>\n",
       "      <td>Medium</td>\n",
       "    </tr>\n",
       "    <tr>\n",
       "      <th>144</th>\n",
       "      <td>2107</td>\n",
       "      <td>MX-2011-126641</td>\n",
       "      <td>2011-07-01</td>\n",
       "      <td>2011-07-03</td>\n",
       "      <td>First Class</td>\n",
       "      <td>FW-14395</td>\n",
       "      <td>Fred Wasserman</td>\n",
       "      <td>Corporate</td>\n",
       "      <td>Antiguo Cuscatlán</td>\n",
       "      <td>La Libertad</td>\n",
       "      <td>...</td>\n",
       "      <td>OFF-AR-10000019</td>\n",
       "      <td>Office Supplies</td>\n",
       "      <td>Art</td>\n",
       "      <td>BIC Highlighters, Blue</td>\n",
       "      <td>138.820</td>\n",
       "      <td>11</td>\n",
       "      <td>0.0</td>\n",
       "      <td>56.760</td>\n",
       "      <td>30.89</td>\n",
       "      <td>Critical</td>\n",
       "    </tr>\n",
       "    <tr>\n",
       "      <th>235</th>\n",
       "      <td>48321</td>\n",
       "      <td>SA-2011-1130</td>\n",
       "      <td>2011-11-01</td>\n",
       "      <td>2011-11-02</td>\n",
       "      <td>First Class</td>\n",
       "      <td>HR-4770</td>\n",
       "      <td>Hallie Redmond</td>\n",
       "      <td>Home Office</td>\n",
       "      <td>Jeddah</td>\n",
       "      <td>Makkah</td>\n",
       "      <td>...</td>\n",
       "      <td>OFF-STA-10000298</td>\n",
       "      <td>Office Supplies</td>\n",
       "      <td>Art</td>\n",
       "      <td>Stanley Canvas, Blue</td>\n",
       "      <td>593.640</td>\n",
       "      <td>12</td>\n",
       "      <td>0.0</td>\n",
       "      <td>94.680</td>\n",
       "      <td>67.09</td>\n",
       "      <td>Medium</td>\n",
       "    </tr>\n",
       "    <tr>\n",
       "      <th>236</th>\n",
       "      <td>17719</td>\n",
       "      <td>ES-2011-4915337</td>\n",
       "      <td>2011-11-01</td>\n",
       "      <td>2011-11-06</td>\n",
       "      <td>Standard Class</td>\n",
       "      <td>JG-15115</td>\n",
       "      <td>Jack Garza</td>\n",
       "      <td>Consumer</td>\n",
       "      <td>Messina</td>\n",
       "      <td>Sicily</td>\n",
       "      <td>...</td>\n",
       "      <td>OFF-ST-10000624</td>\n",
       "      <td>Office Supplies</td>\n",
       "      <td>Storage</td>\n",
       "      <td>Eldon File Cart, Single Width</td>\n",
       "      <td>770.220</td>\n",
       "      <td>10</td>\n",
       "      <td>0.4</td>\n",
       "      <td>38.220</td>\n",
       "      <td>63.67</td>\n",
       "      <td>Medium</td>\n",
       "    </tr>\n",
       "    <tr>\n",
       "      <th>...</th>\n",
       "      <td>...</td>\n",
       "      <td>...</td>\n",
       "      <td>...</td>\n",
       "      <td>...</td>\n",
       "      <td>...</td>\n",
       "      <td>...</td>\n",
       "      <td>...</td>\n",
       "      <td>...</td>\n",
       "      <td>...</td>\n",
       "      <td>...</td>\n",
       "      <td>...</td>\n",
       "      <td>...</td>\n",
       "      <td>...</td>\n",
       "      <td>...</td>\n",
       "      <td>...</td>\n",
       "      <td>...</td>\n",
       "      <td>...</td>\n",
       "      <td>...</td>\n",
       "      <td>...</td>\n",
       "      <td>...</td>\n",
       "      <td>...</td>\n",
       "    </tr>\n",
       "    <tr>\n",
       "      <th>51024</th>\n",
       "      <td>33008</td>\n",
       "      <td>CA-2014-123491</td>\n",
       "      <td>2014-10-31</td>\n",
       "      <td>2014-11-06</td>\n",
       "      <td>Standard Class</td>\n",
       "      <td>JK-15205</td>\n",
       "      <td>Jamie Kunitz</td>\n",
       "      <td>Consumer</td>\n",
       "      <td>San Francisco</td>\n",
       "      <td>California</td>\n",
       "      <td>...</td>\n",
       "      <td>OFF-AP-10002684</td>\n",
       "      <td>Office Supplies</td>\n",
       "      <td>Appliances</td>\n",
       "      <td>Acco 7-Outlet Masterpiece Power Center, Wihtou...</td>\n",
       "      <td>1702.120</td>\n",
       "      <td>14</td>\n",
       "      <td>0.0</td>\n",
       "      <td>510.636</td>\n",
       "      <td>107.69</td>\n",
       "      <td>Medium</td>\n",
       "    </tr>\n",
       "    <tr>\n",
       "      <th>51028</th>\n",
       "      <td>3312</td>\n",
       "      <td>US-2014-127026</td>\n",
       "      <td>2014-10-31</td>\n",
       "      <td>2014-11-04</td>\n",
       "      <td>Standard Class</td>\n",
       "      <td>NS-18505</td>\n",
       "      <td>Neola Schneider</td>\n",
       "      <td>Consumer</td>\n",
       "      <td>Monterrey</td>\n",
       "      <td>Nuevo León</td>\n",
       "      <td>...</td>\n",
       "      <td>FUR-FU-10004339</td>\n",
       "      <td>Furniture</td>\n",
       "      <td>Furnishings</td>\n",
       "      <td>Deflect-O Frame, Black</td>\n",
       "      <td>484.176</td>\n",
       "      <td>11</td>\n",
       "      <td>0.4</td>\n",
       "      <td>-137.324</td>\n",
       "      <td>73.41</td>\n",
       "      <td>High</td>\n",
       "    </tr>\n",
       "    <tr>\n",
       "      <th>51125</th>\n",
       "      <td>33621</td>\n",
       "      <td>CA-2012-109470</td>\n",
       "      <td>2012-12-31</td>\n",
       "      <td>2013-01-03</td>\n",
       "      <td>Second Class</td>\n",
       "      <td>KC-16255</td>\n",
       "      <td>Karen Carlisle</td>\n",
       "      <td>Corporate</td>\n",
       "      <td>Henderson</td>\n",
       "      <td>Kentucky</td>\n",
       "      <td>...</td>\n",
       "      <td>OFF-BI-10000977</td>\n",
       "      <td>Office Supplies</td>\n",
       "      <td>Binders</td>\n",
       "      <td>Ibico Plastic Spiral Binding Combs</td>\n",
       "      <td>364.800</td>\n",
       "      <td>12</td>\n",
       "      <td>0.0</td>\n",
       "      <td>167.808</td>\n",
       "      <td>28.17</td>\n",
       "      <td>High</td>\n",
       "    </tr>\n",
       "    <tr>\n",
       "      <th>51180</th>\n",
       "      <td>25710</td>\n",
       "      <td>IN-2013-52972</td>\n",
       "      <td>2013-12-31</td>\n",
       "      <td>2014-01-04</td>\n",
       "      <td>Standard Class</td>\n",
       "      <td>BD-11620</td>\n",
       "      <td>Brian DeCherney</td>\n",
       "      <td>Consumer</td>\n",
       "      <td>Malegaon</td>\n",
       "      <td>Maharashtra</td>\n",
       "      <td>...</td>\n",
       "      <td>OFF-PA-10001258</td>\n",
       "      <td>Office Supplies</td>\n",
       "      <td>Paper</td>\n",
       "      <td>Green Bar Cards &amp; Envelopes, Multicolor</td>\n",
       "      <td>498.000</td>\n",
       "      <td>10</td>\n",
       "      <td>0.0</td>\n",
       "      <td>44.700</td>\n",
       "      <td>41.18</td>\n",
       "      <td>Medium</td>\n",
       "    </tr>\n",
       "    <tr>\n",
       "      <th>51258</th>\n",
       "      <td>48786</td>\n",
       "      <td>UP-2014-3330</td>\n",
       "      <td>2014-12-31</td>\n",
       "      <td>2015-01-02</td>\n",
       "      <td>First Class</td>\n",
       "      <td>FW-4395</td>\n",
       "      <td>Fred Wasserman</td>\n",
       "      <td>Corporate</td>\n",
       "      <td>Mykolayiv</td>\n",
       "      <td>Mykolayiv</td>\n",
       "      <td>...</td>\n",
       "      <td>OFF-OIC-10004536</td>\n",
       "      <td>Office Supplies</td>\n",
       "      <td>Fasteners</td>\n",
       "      <td>OIC Thumb Tacks, Assorted Sizes</td>\n",
       "      <td>138.240</td>\n",
       "      <td>12</td>\n",
       "      <td>0.0</td>\n",
       "      <td>55.080</td>\n",
       "      <td>8.03</td>\n",
       "      <td>Medium</td>\n",
       "    </tr>\n",
       "  </tbody>\n",
       "</table>\n",
       "<p>877 rows × 23 columns</p>\n",
       "</div>"
      ],
      "text/plain": [
       "       Row_ID         Order_ID Order_Date  Ship_Date       Ship_Mode  \\\n",
       "61      12529  ES-2011-1416586 2011-03-01 2011-03-04    Second Class   \n",
       "106     16113  ES-2011-5940123 2011-06-01 2011-06-04    Second Class   \n",
       "144      2107   MX-2011-126641 2011-07-01 2011-07-03     First Class   \n",
       "235     48321     SA-2011-1130 2011-11-01 2011-11-02     First Class   \n",
       "236     17719  ES-2011-4915337 2011-11-01 2011-11-06  Standard Class   \n",
       "...       ...              ...        ...        ...             ...   \n",
       "51024   33008   CA-2014-123491 2014-10-31 2014-11-06  Standard Class   \n",
       "51028    3312   US-2014-127026 2014-10-31 2014-11-04  Standard Class   \n",
       "51125   33621   CA-2012-109470 2012-12-31 2013-01-03    Second Class   \n",
       "51180   25710    IN-2013-52972 2013-12-31 2014-01-04  Standard Class   \n",
       "51258   48786     UP-2014-3330 2014-12-31 2015-01-02     First Class   \n",
       "\n",
       "      Customer_ID    Customer_Name      Segment               City  \\\n",
       "61       EL-13735        Ed Ludwig  Home Office             Bochum   \n",
       "106      MC-18130      Mike Caudle    Corporate         Warrington   \n",
       "144      FW-14395   Fred Wasserman    Corporate  Antiguo Cuscatlán   \n",
       "235       HR-4770   Hallie Redmond  Home Office             Jeddah   \n",
       "236      JG-15115       Jack Garza     Consumer            Messina   \n",
       "...           ...              ...          ...                ...   \n",
       "51024    JK-15205     Jamie Kunitz     Consumer      San Francisco   \n",
       "51028    NS-18505  Neola Schneider     Consumer          Monterrey   \n",
       "51125    KC-16255   Karen Carlisle    Corporate          Henderson   \n",
       "51180    BD-11620  Brian DeCherney     Consumer           Malegaon   \n",
       "51258     FW-4395   Fred Wasserman    Corporate          Mykolayiv   \n",
       "\n",
       "                        State  ...        Product_ID         Category  \\\n",
       "61     North Rhine-Westphalia  ...   OFF-AR-10000505  Office Supplies   \n",
       "106                   England  ...   TEC-AC-10000140       Technology   \n",
       "144               La Libertad  ...   OFF-AR-10000019  Office Supplies   \n",
       "235                    Makkah  ...  OFF-STA-10000298  Office Supplies   \n",
       "236                    Sicily  ...   OFF-ST-10000624  Office Supplies   \n",
       "...                       ...  ...               ...              ...   \n",
       "51024              California  ...   OFF-AP-10002684  Office Supplies   \n",
       "51028              Nuevo León  ...   FUR-FU-10004339        Furniture   \n",
       "51125                Kentucky  ...   OFF-BI-10000977  Office Supplies   \n",
       "51180             Maharashtra  ...   OFF-PA-10001258  Office Supplies   \n",
       "51258               Mykolayiv  ...  OFF-OIC-10004536  Office Supplies   \n",
       "\n",
       "           Sub_Cat                                       Product_Name  \\\n",
       "61             Art                    Binney & Smith Pens, Easy-Erase   \n",
       "106    Accessories                  Enermax Numeric Keypad, Bluetooth   \n",
       "144            Art                             BIC Highlighters, Blue   \n",
       "235            Art                               Stanley Canvas, Blue   \n",
       "236        Storage                      Eldon File Cart, Single Width   \n",
       "...            ...                                                ...   \n",
       "51024   Appliances  Acco 7-Outlet Masterpiece Power Center, Wihtou...   \n",
       "51028  Furnishings                             Deflect-O Frame, Black   \n",
       "51125      Binders                 Ibico Plastic Spiral Binding Combs   \n",
       "51180        Paper            Green Bar Cards & Envelopes, Multicolor   \n",
       "51258    Fasteners                    OIC Thumb Tacks, Assorted Sizes   \n",
       "\n",
       "          Sales Quantity Discount   Profit  Shipping_Cost  Order_Priority  \n",
       "61      146.520       12      0.0    0.000           3.35          Medium  \n",
       "106     805.560       14      0.0  185.220          80.12          Medium  \n",
       "144     138.820       11      0.0   56.760          30.89        Critical  \n",
       "235     593.640       12      0.0   94.680          67.09          Medium  \n",
       "236     770.220       10      0.4   38.220          63.67          Medium  \n",
       "...         ...      ...      ...      ...            ...             ...  \n",
       "51024  1702.120       14      0.0  510.636         107.69          Medium  \n",
       "51028   484.176       11      0.4 -137.324          73.41            High  \n",
       "51125   364.800       12      0.0  167.808          28.17            High  \n",
       "51180   498.000       10      0.0   44.700          41.18          Medium  \n",
       "51258   138.240       12      0.0   55.080           8.03          Medium  \n",
       "\n",
       "[877 rows x 23 columns]"
      ]
     },
     "execution_count": 99,
     "metadata": {},
     "output_type": "execute_result"
    }
   ],
   "source": [
    "df[df.Quantity>9.5]"
   ]
  },
  {
   "cell_type": "code",
   "execution_count": 100,
   "metadata": {},
   "outputs": [
    {
     "name": "stdout",
     "output_type": "stream",
     "text": [
      "-0.30000000000000004 0.5\n"
     ]
    },
    {
     "data": {
      "image/png": "[encoded data removed]",
      "text/plain": [
       "<Figure size 432x288 with 1 Axes>"
      ]
     },
     "metadata": {
      "needs_background": "light"
     },
     "output_type": "display_data"
    }
   ],
   "source": [
    "outlier(df.Discount)"
   ]
  },
  {
   "cell_type": "code",
   "execution_count": 104,
   "metadata": {},
   "outputs": [
    {
     "data": {
      "text/html": [
       "<div>\n",
       "<style scoped>\n",
       "    .dataframe tbody tr th:only-of-type {\n",
       "        vertical-align: middle;\n",
       "    }\n",
       "\n",
       "    .dataframe tbody tr th {\n",
       "        vertical-align: top;\n",
       "    }\n",
       "\n",
       "    .dataframe thead th {\n",
       "        text-align: right;\n",
       "    }\n",
       "</style>\n",
       "<table border=\"1\" class=\"dataframe\">\n",
       "  <thead>\n",
       "    <tr style=\"text-align: right;\">\n",
       "      <th></th>\n",
       "      <th>Row_ID</th>\n",
       "      <th>Order_ID</th>\n",
       "      <th>Order_Date</th>\n",
       "      <th>Ship_Date</th>\n",
       "      <th>Ship_Mode</th>\n",
       "      <th>Customer_ID</th>\n",
       "      <th>Customer_Name</th>\n",
       "      <th>Segment</th>\n",
       "      <th>City</th>\n",
       "      <th>State</th>\n",
       "      <th>...</th>\n",
       "      <th>Product_ID</th>\n",
       "      <th>Category</th>\n",
       "      <th>Sub_Cat</th>\n",
       "      <th>Product_Name</th>\n",
       "      <th>Sales</th>\n",
       "      <th>Quantity</th>\n",
       "      <th>Discount</th>\n",
       "      <th>Profit</th>\n",
       "      <th>Shipping_Cost</th>\n",
       "      <th>Order_Priority</th>\n",
       "    </tr>\n",
       "  </thead>\n",
       "  <tbody>\n",
       "    <tr>\n",
       "      <th>53</th>\n",
       "      <td>39246</td>\n",
       "      <td>CA-2011-131009</td>\n",
       "      <td>2011-03-01</td>\n",
       "      <td>2011-03-05</td>\n",
       "      <td>Standard Class</td>\n",
       "      <td>SC-20380</td>\n",
       "      <td>Shahid Collister</td>\n",
       "      <td>Consumer</td>\n",
       "      <td>El Paso</td>\n",
       "      <td>Texas</td>\n",
       "      <td>...</td>\n",
       "      <td>FUR-FU-10001095</td>\n",
       "      <td>Furniture</td>\n",
       "      <td>Furnishings</td>\n",
       "      <td>DAX Black Cherry Wood-Tone Poster Frame</td>\n",
       "      <td>63.5520</td>\n",
       "      <td>6</td>\n",
       "      <td>0.60</td>\n",
       "      <td>-34.9536</td>\n",
       "      <td>7.38</td>\n",
       "      <td>Medium</td>\n",
       "    </tr>\n",
       "    <tr>\n",
       "      <th>74</th>\n",
       "      <td>50129</td>\n",
       "      <td>NI-2011-190</td>\n",
       "      <td>2011-03-01</td>\n",
       "      <td>2011-03-06</td>\n",
       "      <td>Standard Class</td>\n",
       "      <td>EH-3765</td>\n",
       "      <td>Edward Hooks</td>\n",
       "      <td>Corporate</td>\n",
       "      <td>Kano</td>\n",
       "      <td>Kano</td>\n",
       "      <td>...</td>\n",
       "      <td>OFF-HOO-10002386</td>\n",
       "      <td>Office Supplies</td>\n",
       "      <td>Appliances</td>\n",
       "      <td>Hoover Toaster, Silver</td>\n",
       "      <td>25.3170</td>\n",
       "      <td>1</td>\n",
       "      <td>0.70</td>\n",
       "      <td>-28.7130</td>\n",
       "      <td>0.79</td>\n",
       "      <td>Medium</td>\n",
       "    </tr>\n",
       "    <tr>\n",
       "      <th>114</th>\n",
       "      <td>47598</td>\n",
       "      <td>TU-2011-7020</td>\n",
       "      <td>2011-06-01</td>\n",
       "      <td>2011-06-01</td>\n",
       "      <td>Same Day</td>\n",
       "      <td>WB-11850</td>\n",
       "      <td>William Brown</td>\n",
       "      <td>Consumer</td>\n",
       "      <td>Istanbul</td>\n",
       "      <td>Istanbul</td>\n",
       "      <td>...</td>\n",
       "      <td>OFF-FEL-10001865</td>\n",
       "      <td>Office Supplies</td>\n",
       "      <td>Storage</td>\n",
       "      <td>Fellowes File Cart, Wire Frame</td>\n",
       "      <td>109.1040</td>\n",
       "      <td>2</td>\n",
       "      <td>0.60</td>\n",
       "      <td>-106.4160</td>\n",
       "      <td>17.97</td>\n",
       "      <td>Critical</td>\n",
       "    </tr>\n",
       "    <tr>\n",
       "      <th>129</th>\n",
       "      <td>47600</td>\n",
       "      <td>TU-2011-7020</td>\n",
       "      <td>2011-06-01</td>\n",
       "      <td>2011-06-01</td>\n",
       "      <td>Same Day</td>\n",
       "      <td>WB-11850</td>\n",
       "      <td>William Brown</td>\n",
       "      <td>Consumer</td>\n",
       "      <td>Istanbul</td>\n",
       "      <td>Istanbul</td>\n",
       "      <td>...</td>\n",
       "      <td>OFF-WIL-10002233</td>\n",
       "      <td>Office Supplies</td>\n",
       "      <td>Binders</td>\n",
       "      <td>Wilson Jones Index Tab, Durable</td>\n",
       "      <td>12.7200</td>\n",
       "      <td>4</td>\n",
       "      <td>0.60</td>\n",
       "      <td>-18.4800</td>\n",
       "      <td>3.99</td>\n",
       "      <td>Critical</td>\n",
       "    </tr>\n",
       "    <tr>\n",
       "      <th>130</th>\n",
       "      <td>47599</td>\n",
       "      <td>TU-2011-7020</td>\n",
       "      <td>2011-06-01</td>\n",
       "      <td>2011-06-01</td>\n",
       "      <td>Same Day</td>\n",
       "      <td>WB-11850</td>\n",
       "      <td>William Brown</td>\n",
       "      <td>Consumer</td>\n",
       "      <td>Istanbul</td>\n",
       "      <td>Istanbul</td>\n",
       "      <td>...</td>\n",
       "      <td>OFF-KRA-10000492</td>\n",
       "      <td>Office Supplies</td>\n",
       "      <td>Envelopes</td>\n",
       "      <td>Kraft Manila Envelope, Recycled</td>\n",
       "      <td>10.1160</td>\n",
       "      <td>1</td>\n",
       "      <td>0.60</td>\n",
       "      <td>-10.6440</td>\n",
       "      <td>3.80</td>\n",
       "      <td>Critical</td>\n",
       "    </tr>\n",
       "    <tr>\n",
       "      <th>...</th>\n",
       "      <td>...</td>\n",
       "      <td>...</td>\n",
       "      <td>...</td>\n",
       "      <td>...</td>\n",
       "      <td>...</td>\n",
       "      <td>...</td>\n",
       "      <td>...</td>\n",
       "      <td>...</td>\n",
       "      <td>...</td>\n",
       "      <td>...</td>\n",
       "      <td>...</td>\n",
       "      <td>...</td>\n",
       "      <td>...</td>\n",
       "      <td>...</td>\n",
       "      <td>...</td>\n",
       "      <td>...</td>\n",
       "      <td>...</td>\n",
       "      <td>...</td>\n",
       "      <td>...</td>\n",
       "      <td>...</td>\n",
       "      <td>...</td>\n",
       "    </tr>\n",
       "    <tr>\n",
       "      <th>51221</th>\n",
       "      <td>16206</td>\n",
       "      <td>ES-2013-5147891</td>\n",
       "      <td>2013-12-31</td>\n",
       "      <td>2014-01-06</td>\n",
       "      <td>Standard Class</td>\n",
       "      <td>PF-19225</td>\n",
       "      <td>Phillip Flathmann</td>\n",
       "      <td>Consumer</td>\n",
       "      <td>Dresden</td>\n",
       "      <td>Saxony</td>\n",
       "      <td>...</td>\n",
       "      <td>OFF-ST-10000355</td>\n",
       "      <td>Office Supplies</td>\n",
       "      <td>Storage</td>\n",
       "      <td>Eldon Box, Wire Frame</td>\n",
       "      <td>18.6600</td>\n",
       "      <td>5</td>\n",
       "      <td>0.60</td>\n",
       "      <td>-13.1400</td>\n",
       "      <td>0.96</td>\n",
       "      <td>Medium</td>\n",
       "    </tr>\n",
       "    <tr>\n",
       "      <th>51223</th>\n",
       "      <td>42653</td>\n",
       "      <td>TU-2013-9400</td>\n",
       "      <td>2013-12-31</td>\n",
       "      <td>2014-01-04</td>\n",
       "      <td>Standard Class</td>\n",
       "      <td>TM-11490</td>\n",
       "      <td>Tony Molinari</td>\n",
       "      <td>Consumer</td>\n",
       "      <td>Gaziantep</td>\n",
       "      <td>Gaziantep</td>\n",
       "      <td>...</td>\n",
       "      <td>FUR-ELD-10001413</td>\n",
       "      <td>Furniture</td>\n",
       "      <td>Furnishings</td>\n",
       "      <td>Eldon Light Bulb, Black</td>\n",
       "      <td>10.0800</td>\n",
       "      <td>1</td>\n",
       "      <td>0.60</td>\n",
       "      <td>-5.5500</td>\n",
       "      <td>0.59</td>\n",
       "      <td>Medium</td>\n",
       "    </tr>\n",
       "    <tr>\n",
       "      <th>51231</th>\n",
       "      <td>26333</td>\n",
       "      <td>IN-2014-30390</td>\n",
       "      <td>2014-12-31</td>\n",
       "      <td>2015-01-03</td>\n",
       "      <td>First Class</td>\n",
       "      <td>JD-16150</td>\n",
       "      <td>Justin Deggeller</td>\n",
       "      <td>Corporate</td>\n",
       "      <td>Bangkok</td>\n",
       "      <td>Bangkok</td>\n",
       "      <td>...</td>\n",
       "      <td>FUR-TA-10001531</td>\n",
       "      <td>Furniture</td>\n",
       "      <td>Tables</td>\n",
       "      <td>Lesro Training Table, Adjustable Height</td>\n",
       "      <td>1048.7313</td>\n",
       "      <td>9</td>\n",
       "      <td>0.57</td>\n",
       "      <td>-1195.2387</td>\n",
       "      <td>86.86</td>\n",
       "      <td>High</td>\n",
       "    </tr>\n",
       "    <tr>\n",
       "      <th>51249</th>\n",
       "      <td>41744</td>\n",
       "      <td>TU-2014-5170</td>\n",
       "      <td>2014-12-31</td>\n",
       "      <td>2015-01-04</td>\n",
       "      <td>Second Class</td>\n",
       "      <td>VD-11670</td>\n",
       "      <td>Valerie Dominguez</td>\n",
       "      <td>Consumer</td>\n",
       "      <td>Konya</td>\n",
       "      <td>Konya</td>\n",
       "      <td>...</td>\n",
       "      <td>FUR-TEN-10000558</td>\n",
       "      <td>Furniture</td>\n",
       "      <td>Furnishings</td>\n",
       "      <td>Tenex Frame, Erganomic</td>\n",
       "      <td>173.7600</td>\n",
       "      <td>4</td>\n",
       "      <td>0.60</td>\n",
       "      <td>-117.3600</td>\n",
       "      <td>13.72</td>\n",
       "      <td>Medium</td>\n",
       "    </tr>\n",
       "    <tr>\n",
       "      <th>51274</th>\n",
       "      <td>41743</td>\n",
       "      <td>TU-2014-5170</td>\n",
       "      <td>2014-12-31</td>\n",
       "      <td>2015-01-04</td>\n",
       "      <td>Second Class</td>\n",
       "      <td>VD-11670</td>\n",
       "      <td>Valerie Dominguez</td>\n",
       "      <td>Consumer</td>\n",
       "      <td>Konya</td>\n",
       "      <td>Konya</td>\n",
       "      <td>...</td>\n",
       "      <td>TEC-SAN-10004215</td>\n",
       "      <td>Technology</td>\n",
       "      <td>Accessories</td>\n",
       "      <td>SanDisk Keyboard, Bluetooth</td>\n",
       "      <td>32.5920</td>\n",
       "      <td>1</td>\n",
       "      <td>0.60</td>\n",
       "      <td>-25.2780</td>\n",
       "      <td>3.40</td>\n",
       "      <td>Medium</td>\n",
       "    </tr>\n",
       "  </tbody>\n",
       "</table>\n",
       "<p>4172 rows × 23 columns</p>\n",
       "</div>"
      ],
      "text/plain": [
       "       Row_ID         Order_ID Order_Date  Ship_Date       Ship_Mode  \\\n",
       "53      39246   CA-2011-131009 2011-03-01 2011-03-05  Standard Class   \n",
       "74      50129      NI-2011-190 2011-03-01 2011-03-06  Standard Class   \n",
       "114     47598     TU-2011-7020 2011-06-01 2011-06-01        Same Day   \n",
       "129     47600     TU-2011-7020 2011-06-01 2011-06-01        Same Day   \n",
       "130     47599     TU-2011-7020 2011-06-01 2011-06-01        Same Day   \n",
       "...       ...              ...        ...        ...             ...   \n",
       "51221   16206  ES-2013-5147891 2013-12-31 2014-01-06  Standard Class   \n",
       "51223   42653     TU-2013-9400 2013-12-31 2014-01-04  Standard Class   \n",
       "51231   26333    IN-2014-30390 2014-12-31 2015-01-03     First Class   \n",
       "51249   41744     TU-2014-5170 2014-12-31 2015-01-04    Second Class   \n",
       "51274   41743     TU-2014-5170 2014-12-31 2015-01-04    Second Class   \n",
       "\n",
       "      Customer_ID      Customer_Name    Segment       City      State  ...  \\\n",
       "53       SC-20380   Shahid Collister   Consumer    El Paso      Texas  ...   \n",
       "74        EH-3765       Edward Hooks  Corporate       Kano       Kano  ...   \n",
       "114      WB-11850      William Brown   Consumer   Istanbul   Istanbul  ...   \n",
       "129      WB-11850      William Brown   Consumer   Istanbul   Istanbul  ...   \n",
       "130      WB-11850      William Brown   Consumer   Istanbul   Istanbul  ...   \n",
       "...           ...                ...        ...        ...        ...  ...   \n",
       "51221    PF-19225  Phillip Flathmann   Consumer    Dresden     Saxony  ...   \n",
       "51223    TM-11490      Tony Molinari   Consumer  Gaziantep  Gaziantep  ...   \n",
       "51231    JD-16150   Justin Deggeller  Corporate    Bangkok    Bangkok  ...   \n",
       "51249    VD-11670  Valerie Dominguez   Consumer      Konya      Konya  ...   \n",
       "51274    VD-11670  Valerie Dominguez   Consumer      Konya      Konya  ...   \n",
       "\n",
       "             Product_ID         Category      Sub_Cat  \\\n",
       "53      FUR-FU-10001095        Furniture  Furnishings   \n",
       "74     OFF-HOO-10002386  Office Supplies   Appliances   \n",
       "114    OFF-FEL-10001865  Office Supplies      Storage   \n",
       "129    OFF-WIL-10002233  Office Supplies      Binders   \n",
       "130    OFF-KRA-10000492  Office Supplies    Envelopes   \n",
       "...                 ...              ...          ...   \n",
       "51221   OFF-ST-10000355  Office Supplies      Storage   \n",
       "51223  FUR-ELD-10001413        Furniture  Furnishings   \n",
       "51231   FUR-TA-10001531        Furniture       Tables   \n",
       "51249  FUR-TEN-10000558        Furniture  Furnishings   \n",
       "51274  TEC-SAN-10004215       Technology  Accessories   \n",
       "\n",
       "                                  Product_Name      Sales Quantity Discount  \\\n",
       "53     DAX Black Cherry Wood-Tone Poster Frame    63.5520        6     0.60   \n",
       "74                      Hoover Toaster, Silver    25.3170        1     0.70   \n",
       "114             Fellowes File Cart, Wire Frame   109.1040        2     0.60   \n",
       "129            Wilson Jones Index Tab, Durable    12.7200        4     0.60   \n",
       "130            Kraft Manila Envelope, Recycled    10.1160        1     0.60   \n",
       "...                                        ...        ...      ...      ...   \n",
       "51221                    Eldon Box, Wire Frame    18.6600        5     0.60   \n",
       "51223                  Eldon Light Bulb, Black    10.0800        1     0.60   \n",
       "51231  Lesro Training Table, Adjustable Height  1048.7313        9     0.57   \n",
       "51249                   Tenex Frame, Erganomic   173.7600        4     0.60   \n",
       "51274              SanDisk Keyboard, Bluetooth    32.5920        1     0.60   \n",
       "\n",
       "          Profit  Shipping_Cost  Order_Priority  \n",
       "53      -34.9536           7.38          Medium  \n",
       "74      -28.7130           0.79          Medium  \n",
       "114    -106.4160          17.97        Critical  \n",
       "129     -18.4800           3.99        Critical  \n",
       "130     -10.6440           3.80        Critical  \n",
       "...          ...            ...             ...  \n",
       "51221   -13.1400           0.96          Medium  \n",
       "51223    -5.5500           0.59          Medium  \n",
       "51231 -1195.2387          86.86            High  \n",
       "51249  -117.3600          13.72          Medium  \n",
       "51274   -25.2780           3.40          Medium  \n",
       "\n",
       "[4172 rows x 23 columns]"
      ]
     },
     "execution_count": 104,
     "metadata": {},
     "output_type": "execute_result"
    }
   ],
   "source": [
    "df[df.Discount>0.5]"
   ]
  },
  {
   "cell_type": "code",
   "execution_count": 101,
   "metadata": {},
   "outputs": [
    {
     "name": "stdout",
     "output_type": "stream",
     "text": [
      "-55.215 92.025\n"
     ]
    },
    {
     "data": {
      "image/png": "[encoded data removed]",
      "text/plain": [
       "<Figure size 432x288 with 1 Axes>"
      ]
     },
     "metadata": {
      "needs_background": "light"
     },
     "output_type": "display_data"
    }
   ],
   "source": [
    "outlier(df.Profit)"
   ]
  },
  {
   "cell_type": "code",
   "execution_count": 106,
   "metadata": {},
   "outputs": [
    {
     "data": {
      "text/html": [
       "<div>\n",
       "<style scoped>\n",
       "    .dataframe tbody tr th:only-of-type {\n",
       "        vertical-align: middle;\n",
       "    }\n",
       "\n",
       "    .dataframe tbody tr th {\n",
       "        vertical-align: top;\n",
       "    }\n",
       "\n",
       "    .dataframe thead th {\n",
       "        text-align: right;\n",
       "    }\n",
       "</style>\n",
       "<table border=\"1\" class=\"dataframe\">\n",
       "  <thead>\n",
       "    <tr style=\"text-align: right;\">\n",
       "      <th></th>\n",
       "      <th>Row_ID</th>\n",
       "      <th>Order_ID</th>\n",
       "      <th>Order_Date</th>\n",
       "      <th>Ship_Date</th>\n",
       "      <th>Ship_Mode</th>\n",
       "      <th>Customer_ID</th>\n",
       "      <th>Customer_Name</th>\n",
       "      <th>Segment</th>\n",
       "      <th>City</th>\n",
       "      <th>State</th>\n",
       "      <th>...</th>\n",
       "      <th>Product_ID</th>\n",
       "      <th>Category</th>\n",
       "      <th>Sub_Cat</th>\n",
       "      <th>Product_Name</th>\n",
       "      <th>Sales</th>\n",
       "      <th>Quantity</th>\n",
       "      <th>Discount</th>\n",
       "      <th>Profit</th>\n",
       "      <th>Shipping_Cost</th>\n",
       "      <th>Order_Priority</th>\n",
       "    </tr>\n",
       "  </thead>\n",
       "  <tbody>\n",
       "    <tr>\n",
       "      <th>0</th>\n",
       "      <td>42433</td>\n",
       "      <td>AG-2011-2040</td>\n",
       "      <td>2011-01-01</td>\n",
       "      <td>2011-01-06</td>\n",
       "      <td>Standard Class</td>\n",
       "      <td>TB-11280</td>\n",
       "      <td>Toby Braunhardt</td>\n",
       "      <td>Consumer</td>\n",
       "      <td>Constantine</td>\n",
       "      <td>Constantine</td>\n",
       "      <td>...</td>\n",
       "      <td>OFF-TEN-10000025</td>\n",
       "      <td>Office Supplies</td>\n",
       "      <td>Storage</td>\n",
       "      <td>Tenex Lockers, Blue</td>\n",
       "      <td>408.300</td>\n",
       "      <td>2</td>\n",
       "      <td>0.00</td>\n",
       "      <td>106.140</td>\n",
       "      <td>35.46</td>\n",
       "      <td>Medium</td>\n",
       "    </tr>\n",
       "    <tr>\n",
       "      <th>8</th>\n",
       "      <td>44508</td>\n",
       "      <td>AO-2011-1390</td>\n",
       "      <td>2011-02-01</td>\n",
       "      <td>2011-02-04</td>\n",
       "      <td>Second Class</td>\n",
       "      <td>DK-3150</td>\n",
       "      <td>David Kendrick</td>\n",
       "      <td>Corporate</td>\n",
       "      <td>Luanda</td>\n",
       "      <td>Luanda</td>\n",
       "      <td>...</td>\n",
       "      <td>OFF-FEL-10001541</td>\n",
       "      <td>Office Supplies</td>\n",
       "      <td>Storage</td>\n",
       "      <td>Fellowes Lockers, Wire Frame</td>\n",
       "      <td>206.400</td>\n",
       "      <td>1</td>\n",
       "      <td>0.00</td>\n",
       "      <td>92.880</td>\n",
       "      <td>53.08</td>\n",
       "      <td>Critical</td>\n",
       "    </tr>\n",
       "    <tr>\n",
       "      <th>10</th>\n",
       "      <td>25293</td>\n",
       "      <td>IN-2011-36074</td>\n",
       "      <td>2011-02-01</td>\n",
       "      <td>2011-02-05</td>\n",
       "      <td>Second Class</td>\n",
       "      <td>DK-13150</td>\n",
       "      <td>David Kendrick</td>\n",
       "      <td>Corporate</td>\n",
       "      <td>Chongqing</td>\n",
       "      <td>Chongqing</td>\n",
       "      <td>...</td>\n",
       "      <td>OFF-AP-10001254</td>\n",
       "      <td>Office Supplies</td>\n",
       "      <td>Appliances</td>\n",
       "      <td>KitchenAid Coffee Grinder, Red</td>\n",
       "      <td>352.350</td>\n",
       "      <td>5</td>\n",
       "      <td>0.00</td>\n",
       "      <td>137.400</td>\n",
       "      <td>33.15</td>\n",
       "      <td>Medium</td>\n",
       "    </tr>\n",
       "    <tr>\n",
       "      <th>12</th>\n",
       "      <td>41445</td>\n",
       "      <td>IR-2011-6550</td>\n",
       "      <td>2011-02-01</td>\n",
       "      <td>2011-02-06</td>\n",
       "      <td>Standard Class</td>\n",
       "      <td>PO-8850</td>\n",
       "      <td>Patrick O'Brill</td>\n",
       "      <td>Consumer</td>\n",
       "      <td>Mashhad</td>\n",
       "      <td>Razavi Khorasan</td>\n",
       "      <td>...</td>\n",
       "      <td>FUR-ADV-10002601</td>\n",
       "      <td>Furniture</td>\n",
       "      <td>Furnishings</td>\n",
       "      <td>Advantus Photo Frame, Erganomic</td>\n",
       "      <td>309.600</td>\n",
       "      <td>6</td>\n",
       "      <td>0.00</td>\n",
       "      <td>148.500</td>\n",
       "      <td>19.65</td>\n",
       "      <td>High</td>\n",
       "    </tr>\n",
       "    <tr>\n",
       "      <th>24</th>\n",
       "      <td>13130</td>\n",
       "      <td>ES-2011-1705541</td>\n",
       "      <td>2011-03-01</td>\n",
       "      <td>2011-03-06</td>\n",
       "      <td>Standard Class</td>\n",
       "      <td>TS-21370</td>\n",
       "      <td>Todd Sumrall</td>\n",
       "      <td>Corporate</td>\n",
       "      <td>Farnborough</td>\n",
       "      <td>England</td>\n",
       "      <td>...</td>\n",
       "      <td>FUR-BO-10000259</td>\n",
       "      <td>Furniture</td>\n",
       "      <td>Bookcases</td>\n",
       "      <td>Safco Classic Bookcase, Traditional</td>\n",
       "      <td>1314.450</td>\n",
       "      <td>3</td>\n",
       "      <td>0.00</td>\n",
       "      <td>341.730</td>\n",
       "      <td>150.40</td>\n",
       "      <td>High</td>\n",
       "    </tr>\n",
       "    <tr>\n",
       "      <th>...</th>\n",
       "      <td>...</td>\n",
       "      <td>...</td>\n",
       "      <td>...</td>\n",
       "      <td>...</td>\n",
       "      <td>...</td>\n",
       "      <td>...</td>\n",
       "      <td>...</td>\n",
       "      <td>...</td>\n",
       "      <td>...</td>\n",
       "      <td>...</td>\n",
       "      <td>...</td>\n",
       "      <td>...</td>\n",
       "      <td>...</td>\n",
       "      <td>...</td>\n",
       "      <td>...</td>\n",
       "      <td>...</td>\n",
       "      <td>...</td>\n",
       "      <td>...</td>\n",
       "      <td>...</td>\n",
       "      <td>...</td>\n",
       "      <td>...</td>\n",
       "    </tr>\n",
       "    <tr>\n",
       "      <th>51239</th>\n",
       "      <td>28570</td>\n",
       "      <td>ID-2014-54442</td>\n",
       "      <td>2014-12-31</td>\n",
       "      <td>2015-01-04</td>\n",
       "      <td>Standard Class</td>\n",
       "      <td>MY-18295</td>\n",
       "      <td>Muhammed Yedwab</td>\n",
       "      <td>Corporate</td>\n",
       "      <td>Manila</td>\n",
       "      <td>National Capital</td>\n",
       "      <td>...</td>\n",
       "      <td>TEC-CO-10000666</td>\n",
       "      <td>Technology</td>\n",
       "      <td>Copiers</td>\n",
       "      <td>Hewlett Copy Machine, Laser</td>\n",
       "      <td>684.606</td>\n",
       "      <td>4</td>\n",
       "      <td>0.35</td>\n",
       "      <td>-63.234</td>\n",
       "      <td>42.92</td>\n",
       "      <td>Medium</td>\n",
       "    </tr>\n",
       "    <tr>\n",
       "      <th>51245</th>\n",
       "      <td>23680</td>\n",
       "      <td>IN-2014-75603</td>\n",
       "      <td>2014-12-31</td>\n",
       "      <td>2015-01-05</td>\n",
       "      <td>Second Class</td>\n",
       "      <td>BS-11365</td>\n",
       "      <td>Bill Shonely</td>\n",
       "      <td>Corporate</td>\n",
       "      <td>Vijayawada</td>\n",
       "      <td>Andhra Pradesh</td>\n",
       "      <td>...</td>\n",
       "      <td>TEC-AC-10002255</td>\n",
       "      <td>Technology</td>\n",
       "      <td>Accessories</td>\n",
       "      <td>Memorex Keyboard, Erganomic</td>\n",
       "      <td>276.600</td>\n",
       "      <td>4</td>\n",
       "      <td>0.00</td>\n",
       "      <td>105.000</td>\n",
       "      <td>21.84</td>\n",
       "      <td>Medium</td>\n",
       "    </tr>\n",
       "    <tr>\n",
       "      <th>51249</th>\n",
       "      <td>41744</td>\n",
       "      <td>TU-2014-5170</td>\n",
       "      <td>2014-12-31</td>\n",
       "      <td>2015-01-04</td>\n",
       "      <td>Second Class</td>\n",
       "      <td>VD-11670</td>\n",
       "      <td>Valerie Dominguez</td>\n",
       "      <td>Consumer</td>\n",
       "      <td>Konya</td>\n",
       "      <td>Konya</td>\n",
       "      <td>...</td>\n",
       "      <td>FUR-TEN-10000558</td>\n",
       "      <td>Furniture</td>\n",
       "      <td>Furnishings</td>\n",
       "      <td>Tenex Frame, Erganomic</td>\n",
       "      <td>173.760</td>\n",
       "      <td>4</td>\n",
       "      <td>0.60</td>\n",
       "      <td>-117.360</td>\n",
       "      <td>13.72</td>\n",
       "      <td>Medium</td>\n",
       "    </tr>\n",
       "    <tr>\n",
       "      <th>51252</th>\n",
       "      <td>42474</td>\n",
       "      <td>OD-2014-9490</td>\n",
       "      <td>2014-12-31</td>\n",
       "      <td>2015-01-05</td>\n",
       "      <td>Standard Class</td>\n",
       "      <td>MW-8235</td>\n",
       "      <td>Mitch Willingham</td>\n",
       "      <td>Corporate</td>\n",
       "      <td>Juba</td>\n",
       "      <td>Central Equatoria</td>\n",
       "      <td>...</td>\n",
       "      <td>TEC-CAN-10004291</td>\n",
       "      <td>Technology</td>\n",
       "      <td>Copiers</td>\n",
       "      <td>Canon Wireless Fax, Digital</td>\n",
       "      <td>378.300</td>\n",
       "      <td>1</td>\n",
       "      <td>0.00</td>\n",
       "      <td>166.440</td>\n",
       "      <td>11.71</td>\n",
       "      <td>Medium</td>\n",
       "    </tr>\n",
       "    <tr>\n",
       "      <th>51269</th>\n",
       "      <td>23681</td>\n",
       "      <td>IN-2014-75603</td>\n",
       "      <td>2014-12-31</td>\n",
       "      <td>2015-01-05</td>\n",
       "      <td>Second Class</td>\n",
       "      <td>BS-11365</td>\n",
       "      <td>Bill Shonely</td>\n",
       "      <td>Corporate</td>\n",
       "      <td>Vijayawada</td>\n",
       "      <td>Andhra Pradesh</td>\n",
       "      <td>...</td>\n",
       "      <td>FUR-BO-10000670</td>\n",
       "      <td>Furniture</td>\n",
       "      <td>Bookcases</td>\n",
       "      <td>Dania Corner Shelving, Metal</td>\n",
       "      <td>364.590</td>\n",
       "      <td>3</td>\n",
       "      <td>0.00</td>\n",
       "      <td>153.090</td>\n",
       "      <td>4.12</td>\n",
       "      <td>Medium</td>\n",
       "    </tr>\n",
       "  </tbody>\n",
       "</table>\n",
       "<p>9765 rows × 23 columns</p>\n",
       "</div>"
      ],
      "text/plain": [
       "       Row_ID         Order_ID Order_Date  Ship_Date       Ship_Mode  \\\n",
       "0       42433     AG-2011-2040 2011-01-01 2011-01-06  Standard Class   \n",
       "8       44508     AO-2011-1390 2011-02-01 2011-02-04    Second Class   \n",
       "10      25293    IN-2011-36074 2011-02-01 2011-02-05    Second Class   \n",
       "12      41445     IR-2011-6550 2011-02-01 2011-02-06  Standard Class   \n",
       "24      13130  ES-2011-1705541 2011-03-01 2011-03-06  Standard Class   \n",
       "...       ...              ...        ...        ...             ...   \n",
       "51239   28570    ID-2014-54442 2014-12-31 2015-01-04  Standard Class   \n",
       "51245   23680    IN-2014-75603 2014-12-31 2015-01-05    Second Class   \n",
       "51249   41744     TU-2014-5170 2014-12-31 2015-01-04    Second Class   \n",
       "51252   42474     OD-2014-9490 2014-12-31 2015-01-05  Standard Class   \n",
       "51269   23681    IN-2014-75603 2014-12-31 2015-01-05    Second Class   \n",
       "\n",
       "      Customer_ID      Customer_Name    Segment         City  \\\n",
       "0        TB-11280    Toby Braunhardt   Consumer  Constantine   \n",
       "8         DK-3150     David Kendrick  Corporate       Luanda   \n",
       "10       DK-13150     David Kendrick  Corporate    Chongqing   \n",
       "12        PO-8850    Patrick O'Brill   Consumer      Mashhad   \n",
       "24       TS-21370       Todd Sumrall  Corporate  Farnborough   \n",
       "...           ...                ...        ...          ...   \n",
       "51239    MY-18295    Muhammed Yedwab  Corporate       Manila   \n",
       "51245    BS-11365       Bill Shonely  Corporate   Vijayawada   \n",
       "51249    VD-11670  Valerie Dominguez   Consumer        Konya   \n",
       "51252     MW-8235   Mitch Willingham  Corporate         Juba   \n",
       "51269    BS-11365       Bill Shonely  Corporate   Vijayawada   \n",
       "\n",
       "                   State  ...        Product_ID         Category      Sub_Cat  \\\n",
       "0            Constantine  ...  OFF-TEN-10000025  Office Supplies      Storage   \n",
       "8                 Luanda  ...  OFF-FEL-10001541  Office Supplies      Storage   \n",
       "10             Chongqing  ...   OFF-AP-10001254  Office Supplies   Appliances   \n",
       "12       Razavi Khorasan  ...  FUR-ADV-10002601        Furniture  Furnishings   \n",
       "24               England  ...   FUR-BO-10000259        Furniture    Bookcases   \n",
       "...                  ...  ...               ...              ...          ...   \n",
       "51239   National Capital  ...   TEC-CO-10000666       Technology      Copiers   \n",
       "51245     Andhra Pradesh  ...   TEC-AC-10002255       Technology  Accessories   \n",
       "51249              Konya  ...  FUR-TEN-10000558        Furniture  Furnishings   \n",
       "51252  Central Equatoria  ...  TEC-CAN-10004291       Technology      Copiers   \n",
       "51269     Andhra Pradesh  ...   FUR-BO-10000670        Furniture    Bookcases   \n",
       "\n",
       "                              Product_Name     Sales Quantity Discount  \\\n",
       "0                      Tenex Lockers, Blue   408.300        2     0.00   \n",
       "8             Fellowes Lockers, Wire Frame   206.400        1     0.00   \n",
       "10          KitchenAid Coffee Grinder, Red   352.350        5     0.00   \n",
       "12         Advantus Photo Frame, Erganomic   309.600        6     0.00   \n",
       "24     Safco Classic Bookcase, Traditional  1314.450        3     0.00   \n",
       "...                                    ...       ...      ...      ...   \n",
       "51239          Hewlett Copy Machine, Laser   684.606        4     0.35   \n",
       "51245          Memorex Keyboard, Erganomic   276.600        4     0.00   \n",
       "51249               Tenex Frame, Erganomic   173.760        4     0.60   \n",
       "51252          Canon Wireless Fax, Digital   378.300        1     0.00   \n",
       "51269         Dania Corner Shelving, Metal   364.590        3     0.00   \n",
       "\n",
       "        Profit  Shipping_Cost  Order_Priority  \n",
       "0      106.140          35.46          Medium  \n",
       "8       92.880          53.08        Critical  \n",
       "10     137.400          33.15          Medium  \n",
       "12     148.500          19.65            High  \n",
       "24     341.730         150.40            High  \n",
       "...        ...            ...             ...  \n",
       "51239  -63.234          42.92          Medium  \n",
       "51245  105.000          21.84          Medium  \n",
       "51249 -117.360          13.72          Medium  \n",
       "51252  166.440          11.71          Medium  \n",
       "51269  153.090           4.12          Medium  \n",
       "\n",
       "[9765 rows x 23 columns]"
      ]
     },
     "execution_count": 106,
     "metadata": {},
     "output_type": "execute_result"
    }
   ],
   "source": [
    "df[(df.Profit > 92) | (df.Profit < -55)]"
   ]
  },
  {
   "cell_type": "code",
   "execution_count": 103,
   "metadata": {},
   "outputs": [
    {
     "name": "stdout",
     "output_type": "stream",
     "text": [
      "-30.15 57.209999999999994\n"
     ]
    },
    {
     "data": {
      "image/png": "[encoded data removed]",
      "text/plain": [
       "<Figure size 432x288 with 1 Axes>"
      ]
     },
     "metadata": {
      "needs_background": "light"
     },
     "output_type": "display_data"
    }
   ],
   "source": [
    "outlier(df.Shipping_Cost)"
   ]
  },
  {
   "cell_type": "code",
   "execution_count": 107,
   "metadata": {},
   "outputs": [
    {
     "data": {
      "text/html": [
       "<div>\n",
       "<style scoped>\n",
       "    .dataframe tbody tr th:only-of-type {\n",
       "        vertical-align: middle;\n",
       "    }\n",
       "\n",
       "    .dataframe tbody tr th {\n",
       "        vertical-align: top;\n",
       "    }\n",
       "\n",
       "    .dataframe thead th {\n",
       "        text-align: right;\n",
       "    }\n",
       "</style>\n",
       "<table border=\"1\" class=\"dataframe\">\n",
       "  <thead>\n",
       "    <tr style=\"text-align: right;\">\n",
       "      <th></th>\n",
       "      <th>Row_ID</th>\n",
       "      <th>Order_ID</th>\n",
       "      <th>Order_Date</th>\n",
       "      <th>Ship_Date</th>\n",
       "      <th>Ship_Mode</th>\n",
       "      <th>Customer_ID</th>\n",
       "      <th>Customer_Name</th>\n",
       "      <th>Segment</th>\n",
       "      <th>City</th>\n",
       "      <th>State</th>\n",
       "      <th>...</th>\n",
       "      <th>Product_ID</th>\n",
       "      <th>Category</th>\n",
       "      <th>Sub_Cat</th>\n",
       "      <th>Product_Name</th>\n",
       "      <th>Sales</th>\n",
       "      <th>Quantity</th>\n",
       "      <th>Discount</th>\n",
       "      <th>Profit</th>\n",
       "      <th>Shipping_Cost</th>\n",
       "      <th>Order_Priority</th>\n",
       "    </tr>\n",
       "  </thead>\n",
       "  <tbody>\n",
       "    <tr>\n",
       "      <th>6</th>\n",
       "      <td>21613</td>\n",
       "      <td>IN-2011-30733</td>\n",
       "      <td>2011-02-01</td>\n",
       "      <td>2011-02-03</td>\n",
       "      <td>Second Class</td>\n",
       "      <td>PO-18865</td>\n",
       "      <td>Patrick O'Donnell</td>\n",
       "      <td>Consumer</td>\n",
       "      <td>Dhaka</td>\n",
       "      <td>Dhaka</td>\n",
       "      <td>...</td>\n",
       "      <td>TEC-CO-10002316</td>\n",
       "      <td>Technology</td>\n",
       "      <td>Copiers</td>\n",
       "      <td>Brother Personal Copier, Laser</td>\n",
       "      <td>285.7800</td>\n",
       "      <td>2</td>\n",
       "      <td>0.000</td>\n",
       "      <td>71.4000</td>\n",
       "      <td>57.30</td>\n",
       "      <td>Critical</td>\n",
       "    </tr>\n",
       "    <tr>\n",
       "      <th>23</th>\n",
       "      <td>44228</td>\n",
       "      <td>CA-2011-1800</td>\n",
       "      <td>2011-03-01</td>\n",
       "      <td>2011-03-04</td>\n",
       "      <td>First Class</td>\n",
       "      <td>TP-11415</td>\n",
       "      <td>Tom Prescott</td>\n",
       "      <td>Consumer</td>\n",
       "      <td>Toronto</td>\n",
       "      <td>Ontario</td>\n",
       "      <td>...</td>\n",
       "      <td>OFF-FEL-10001405</td>\n",
       "      <td>Office Supplies</td>\n",
       "      <td>Storage</td>\n",
       "      <td>Fellowes File Cart, Industrial</td>\n",
       "      <td>551.1600</td>\n",
       "      <td>4</td>\n",
       "      <td>0.000</td>\n",
       "      <td>71.6400</td>\n",
       "      <td>164.36</td>\n",
       "      <td>High</td>\n",
       "    </tr>\n",
       "    <tr>\n",
       "      <th>24</th>\n",
       "      <td>13130</td>\n",
       "      <td>ES-2011-1705541</td>\n",
       "      <td>2011-03-01</td>\n",
       "      <td>2011-03-06</td>\n",
       "      <td>Standard Class</td>\n",
       "      <td>TS-21370</td>\n",
       "      <td>Todd Sumrall</td>\n",
       "      <td>Corporate</td>\n",
       "      <td>Farnborough</td>\n",
       "      <td>England</td>\n",
       "      <td>...</td>\n",
       "      <td>FUR-BO-10000259</td>\n",
       "      <td>Furniture</td>\n",
       "      <td>Bookcases</td>\n",
       "      <td>Safco Classic Bookcase, Traditional</td>\n",
       "      <td>1314.4500</td>\n",
       "      <td>3</td>\n",
       "      <td>0.000</td>\n",
       "      <td>341.7300</td>\n",
       "      <td>150.40</td>\n",
       "      <td>High</td>\n",
       "    </tr>\n",
       "    <tr>\n",
       "      <th>25</th>\n",
       "      <td>48599</td>\n",
       "      <td>UP-2011-3730</td>\n",
       "      <td>2011-03-01</td>\n",
       "      <td>2011-03-05</td>\n",
       "      <td>Standard Class</td>\n",
       "      <td>RD-9900</td>\n",
       "      <td>Ruben Dartt</td>\n",
       "      <td>Consumer</td>\n",
       "      <td>Vinnytsya</td>\n",
       "      <td>Vinnytsya</td>\n",
       "      <td>...</td>\n",
       "      <td>TEC-LOG-10003896</td>\n",
       "      <td>Technology</td>\n",
       "      <td>Accessories</td>\n",
       "      <td>Logitech Router, Erganomic</td>\n",
       "      <td>1470.7800</td>\n",
       "      <td>6</td>\n",
       "      <td>0.000</td>\n",
       "      <td>264.6000</td>\n",
       "      <td>146.55</td>\n",
       "      <td>Medium</td>\n",
       "    </tr>\n",
       "    <tr>\n",
       "      <th>26</th>\n",
       "      <td>15218</td>\n",
       "      <td>ES-2011-3893444</td>\n",
       "      <td>2011-03-01</td>\n",
       "      <td>2011-03-05</td>\n",
       "      <td>Standard Class</td>\n",
       "      <td>TB-21400</td>\n",
       "      <td>Tom Boeckenhauer</td>\n",
       "      <td>Consumer</td>\n",
       "      <td>Berlin</td>\n",
       "      <td>Berlin</td>\n",
       "      <td>...</td>\n",
       "      <td>OFF-AP-10002568</td>\n",
       "      <td>Office Supplies</td>\n",
       "      <td>Appliances</td>\n",
       "      <td>Hamilton Beach Toaster, Black</td>\n",
       "      <td>364.4160</td>\n",
       "      <td>8</td>\n",
       "      <td>0.200</td>\n",
       "      <td>45.4560</td>\n",
       "      <td>80.67</td>\n",
       "      <td>High</td>\n",
       "    </tr>\n",
       "    <tr>\n",
       "      <th>...</th>\n",
       "      <td>...</td>\n",
       "      <td>...</td>\n",
       "      <td>...</td>\n",
       "      <td>...</td>\n",
       "      <td>...</td>\n",
       "      <td>...</td>\n",
       "      <td>...</td>\n",
       "      <td>...</td>\n",
       "      <td>...</td>\n",
       "      <td>...</td>\n",
       "      <td>...</td>\n",
       "      <td>...</td>\n",
       "      <td>...</td>\n",
       "      <td>...</td>\n",
       "      <td>...</td>\n",
       "      <td>...</td>\n",
       "      <td>...</td>\n",
       "      <td>...</td>\n",
       "      <td>...</td>\n",
       "      <td>...</td>\n",
       "      <td>...</td>\n",
       "    </tr>\n",
       "    <tr>\n",
       "      <th>51175</th>\n",
       "      <td>16234</td>\n",
       "      <td>ES-2013-5731775</td>\n",
       "      <td>2013-12-31</td>\n",
       "      <td>2014-01-07</td>\n",
       "      <td>Standard Class</td>\n",
       "      <td>GM-14455</td>\n",
       "      <td>Gary Mitchum</td>\n",
       "      <td>Home Office</td>\n",
       "      <td>Redditch</td>\n",
       "      <td>England</td>\n",
       "      <td>...</td>\n",
       "      <td>TEC-MA-10002264</td>\n",
       "      <td>Technology</td>\n",
       "      <td>Machines</td>\n",
       "      <td>Panasonic Printer, Durable</td>\n",
       "      <td>799.8300</td>\n",
       "      <td>3</td>\n",
       "      <td>0.000</td>\n",
       "      <td>167.9400</td>\n",
       "      <td>57.73</td>\n",
       "      <td>Low</td>\n",
       "    </tr>\n",
       "    <tr>\n",
       "      <th>51228</th>\n",
       "      <td>1783</td>\n",
       "      <td>MX-2014-116267</td>\n",
       "      <td>2014-12-31</td>\n",
       "      <td>2015-01-03</td>\n",
       "      <td>Second Class</td>\n",
       "      <td>EB-13975</td>\n",
       "      <td>Erica Bern</td>\n",
       "      <td>Corporate</td>\n",
       "      <td>São Paulo</td>\n",
       "      <td>São Paulo</td>\n",
       "      <td>...</td>\n",
       "      <td>TEC-CO-10000137</td>\n",
       "      <td>Technology</td>\n",
       "      <td>Copiers</td>\n",
       "      <td>Canon Wireless Fax, Color</td>\n",
       "      <td>1264.4660</td>\n",
       "      <td>5</td>\n",
       "      <td>0.002</td>\n",
       "      <td>301.4660</td>\n",
       "      <td>253.25</td>\n",
       "      <td>High</td>\n",
       "    </tr>\n",
       "    <tr>\n",
       "      <th>51229</th>\n",
       "      <td>26535</td>\n",
       "      <td>IN-2014-43550</td>\n",
       "      <td>2014-12-31</td>\n",
       "      <td>2015-01-01</td>\n",
       "      <td>First Class</td>\n",
       "      <td>ML-17395</td>\n",
       "      <td>Marina Lichtenstein</td>\n",
       "      <td>Corporate</td>\n",
       "      <td>Jakarta</td>\n",
       "      <td>Jakarta</td>\n",
       "      <td>...</td>\n",
       "      <td>FUR-BO-10004679</td>\n",
       "      <td>Furniture</td>\n",
       "      <td>Bookcases</td>\n",
       "      <td>Safco Library with Doors, Pine</td>\n",
       "      <td>1091.2806</td>\n",
       "      <td>3</td>\n",
       "      <td>0.070</td>\n",
       "      <td>46.9206</td>\n",
       "      <td>243.11</td>\n",
       "      <td>High</td>\n",
       "    </tr>\n",
       "    <tr>\n",
       "      <th>51230</th>\n",
       "      <td>44025</td>\n",
       "      <td>RS-2014-1460</td>\n",
       "      <td>2014-12-31</td>\n",
       "      <td>2015-01-02</td>\n",
       "      <td>Second Class</td>\n",
       "      <td>PB-9105</td>\n",
       "      <td>Peter Bühler</td>\n",
       "      <td>Consumer</td>\n",
       "      <td>Ufa</td>\n",
       "      <td>Bashkortostan</td>\n",
       "      <td>...</td>\n",
       "      <td>TEC-HEW-10004652</td>\n",
       "      <td>Technology</td>\n",
       "      <td>Copiers</td>\n",
       "      <td>Hewlett Personal Copier, Laser</td>\n",
       "      <td>865.6200</td>\n",
       "      <td>6</td>\n",
       "      <td>0.000</td>\n",
       "      <td>51.8400</td>\n",
       "      <td>138.18</td>\n",
       "      <td>High</td>\n",
       "    </tr>\n",
       "    <tr>\n",
       "      <th>51231</th>\n",
       "      <td>26333</td>\n",
       "      <td>IN-2014-30390</td>\n",
       "      <td>2014-12-31</td>\n",
       "      <td>2015-01-03</td>\n",
       "      <td>First Class</td>\n",
       "      <td>JD-16150</td>\n",
       "      <td>Justin Deggeller</td>\n",
       "      <td>Corporate</td>\n",
       "      <td>Bangkok</td>\n",
       "      <td>Bangkok</td>\n",
       "      <td>...</td>\n",
       "      <td>FUR-TA-10001531</td>\n",
       "      <td>Furniture</td>\n",
       "      <td>Tables</td>\n",
       "      <td>Lesro Training Table, Adjustable Height</td>\n",
       "      <td>1048.7313</td>\n",
       "      <td>9</td>\n",
       "      <td>0.570</td>\n",
       "      <td>-1195.2387</td>\n",
       "      <td>86.86</td>\n",
       "      <td>High</td>\n",
       "    </tr>\n",
       "  </tbody>\n",
       "</table>\n",
       "<p>5929 rows × 23 columns</p>\n",
       "</div>"
      ],
      "text/plain": [
       "       Row_ID         Order_ID Order_Date  Ship_Date       Ship_Mode  \\\n",
       "6       21613    IN-2011-30733 2011-02-01 2011-02-03    Second Class   \n",
       "23      44228     CA-2011-1800 2011-03-01 2011-03-04     First Class   \n",
       "24      13130  ES-2011-1705541 2011-03-01 2011-03-06  Standard Class   \n",
       "25      48599     UP-2011-3730 2011-03-01 2011-03-05  Standard Class   \n",
       "26      15218  ES-2011-3893444 2011-03-01 2011-03-05  Standard Class   \n",
       "...       ...              ...        ...        ...             ...   \n",
       "51175   16234  ES-2013-5731775 2013-12-31 2014-01-07  Standard Class   \n",
       "51228    1783   MX-2014-116267 2014-12-31 2015-01-03    Second Class   \n",
       "51229   26535    IN-2014-43550 2014-12-31 2015-01-01     First Class   \n",
       "51230   44025     RS-2014-1460 2014-12-31 2015-01-02    Second Class   \n",
       "51231   26333    IN-2014-30390 2014-12-31 2015-01-03     First Class   \n",
       "\n",
       "      Customer_ID        Customer_Name      Segment         City  \\\n",
       "6        PO-18865    Patrick O'Donnell     Consumer        Dhaka   \n",
       "23       TP-11415         Tom Prescott     Consumer      Toronto   \n",
       "24       TS-21370         Todd Sumrall    Corporate  Farnborough   \n",
       "25        RD-9900          Ruben Dartt     Consumer    Vinnytsya   \n",
       "26       TB-21400     Tom Boeckenhauer     Consumer       Berlin   \n",
       "...           ...                  ...          ...          ...   \n",
       "51175    GM-14455         Gary Mitchum  Home Office     Redditch   \n",
       "51228    EB-13975           Erica Bern    Corporate    São Paulo   \n",
       "51229    ML-17395  Marina Lichtenstein    Corporate      Jakarta   \n",
       "51230     PB-9105         Peter Bühler     Consumer          Ufa   \n",
       "51231    JD-16150     Justin Deggeller    Corporate      Bangkok   \n",
       "\n",
       "               State  ...        Product_ID         Category      Sub_Cat  \\\n",
       "6              Dhaka  ...   TEC-CO-10002316       Technology      Copiers   \n",
       "23           Ontario  ...  OFF-FEL-10001405  Office Supplies      Storage   \n",
       "24           England  ...   FUR-BO-10000259        Furniture    Bookcases   \n",
       "25         Vinnytsya  ...  TEC-LOG-10003896       Technology  Accessories   \n",
       "26            Berlin  ...   OFF-AP-10002568  Office Supplies   Appliances   \n",
       "...              ...  ...               ...              ...          ...   \n",
       "51175        England  ...   TEC-MA-10002264       Technology     Machines   \n",
       "51228      São Paulo  ...   TEC-CO-10000137       Technology      Copiers   \n",
       "51229        Jakarta  ...   FUR-BO-10004679        Furniture    Bookcases   \n",
       "51230  Bashkortostan  ...  TEC-HEW-10004652       Technology      Copiers   \n",
       "51231        Bangkok  ...   FUR-TA-10001531        Furniture       Tables   \n",
       "\n",
       "                                  Product_Name      Sales Quantity Discount  \\\n",
       "6               Brother Personal Copier, Laser   285.7800        2    0.000   \n",
       "23              Fellowes File Cart, Industrial   551.1600        4    0.000   \n",
       "24         Safco Classic Bookcase, Traditional  1314.4500        3    0.000   \n",
       "25                  Logitech Router, Erganomic  1470.7800        6    0.000   \n",
       "26               Hamilton Beach Toaster, Black   364.4160        8    0.200   \n",
       "...                                        ...        ...      ...      ...   \n",
       "51175               Panasonic Printer, Durable   799.8300        3    0.000   \n",
       "51228                Canon Wireless Fax, Color  1264.4660        5    0.002   \n",
       "51229           Safco Library with Doors, Pine  1091.2806        3    0.070   \n",
       "51230           Hewlett Personal Copier, Laser   865.6200        6    0.000   \n",
       "51231  Lesro Training Table, Adjustable Height  1048.7313        9    0.570   \n",
       "\n",
       "          Profit  Shipping_Cost  Order_Priority  \n",
       "6        71.4000          57.30        Critical  \n",
       "23       71.6400         164.36            High  \n",
       "24      341.7300         150.40            High  \n",
       "25      264.6000         146.55          Medium  \n",
       "26       45.4560          80.67            High  \n",
       "...          ...            ...             ...  \n",
       "51175   167.9400          57.73             Low  \n",
       "51228   301.4660         253.25            High  \n",
       "51229    46.9206         243.11            High  \n",
       "51230    51.8400         138.18            High  \n",
       "51231 -1195.2387          86.86            High  \n",
       "\n",
       "[5929 rows x 23 columns]"
      ]
     },
     "execution_count": 107,
     "metadata": {},
     "output_type": "execute_result"
    }
   ],
   "source": [
    "df[df.Shipping_Cost > 57]"
   ]
  },
  {
   "cell_type": "code",
   "execution_count": null,
   "metadata": {},
   "outputs": [],
   "source": []
  }
 ],
 "metadata": {
  "kernelspec": {
   "display_name": "Python 3",
   "language": "python",
   "name": "python3"
  },
  "language_info": {
   "codemirror_mode": {
    "name": "ipython",
    "version": 3
   },
   "file_extension": ".py",
   "mimetype": "text/x-python",
   "name": "python",
   "nbconvert_exporter": "python",
   "pygments_lexer": "ipython3",
   "version": "3.6.3"
  }
 },
 "nbformat": 4,
 "nbformat_minor": 4
}
